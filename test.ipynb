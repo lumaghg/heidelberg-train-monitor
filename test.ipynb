{
 "cells": [
  {
   "cell_type": "code",
   "execution_count": null,
   "id": "bc645c47",
   "metadata": {},
   "outputs": [],
   "source": [
    "import datetime\n",
    "\n",
    "first_time = datetime.datetime(year=2025, month=8, day=11, hour=10)\n",
    "second_time = datetime.datetime(year=2025, month=8, day=11, hour=11)\n",
    "\n",
    "print(first_time > second_time)\n",
    "print(first_time < second_time)"
   ]
  }
 ],
 "metadata": {
  "language_info": {
   "name": "python"
  }
 },
 "nbformat": 4,
 "nbformat_minor": 5
}
