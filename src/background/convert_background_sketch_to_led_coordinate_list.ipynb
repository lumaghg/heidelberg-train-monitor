{
 "cells": [
  {
   "cell_type": "markdown",
   "id": "5c684f54",
   "metadata": {},
   "source": [
    "# Convert Background Lighting Sketch to LED Coordinate List\n",
    "loads the png. pixelart and makes it into a .csv with led coordinates and their background color"
   ]
  },
  {
   "cell_type": "code",
   "execution_count": null,
   "id": "1578c0e8",
   "metadata": {},
   "outputs": [
    {
     "name": "stdout",
     "output_type": "stream",
     "text": [
      "[  0 129 255]\n"
     ]
    },
    {
     "data": {
      "text/plain": [
       "<matplotlib.image.AxesImage at 0x24c83ab03d0>"
      ]
     },
     "execution_count": 33,
     "metadata": {},
     "output_type": "execute_result"
    },
    {
     "data": {
      "image/png": "[encoded data removed]",
      "text/plain": [
       "<Figure size 640x480 with 1 Axes>"
      ]
     },
     "metadata": {},
     "output_type": "display_data"
    }
   ],
   "source": [
    "import cv2\n",
    "import numpy as np\n",
    "import matplotlib.pyplot as plt\n",
    "background_img = cv2.imread(\"background_lighting_sketch_v3.png\", cv2.IMREAD_GRAYSCALE)\n",
    "\n",
    "\n",
    "print(np.unique(background_img))\n",
    "\n",
    "plt.imshow(background_img, cmap='gray')"
   ]
  },
  {
   "cell_type": "code",
   "execution_count": 34,
   "id": "103a6f51",
   "metadata": {},
   "outputs": [
    {
     "data": {
      "text/plain": [
       "<matplotlib.image.AxesImage at 0x24c83b33b10>"
      ]
     },
     "execution_count": 34,
     "metadata": {},
     "output_type": "execute_result"
    },
    {
     "data": {
      "image/png": "[encoded data removed]",
      "text/plain": [
       "<Figure size 640x480 with 1 Axes>"
      ]
     },
     "metadata": {},
     "output_type": "display_data"
    }
   ],
   "source": [
    "# needs to be rotated, as it is displayed on a display that is normally not hochkant \n",
    "background_img_rot = cv2.rotate(background_img, cv2.ROTATE_90_CLOCKWISE)\n",
    "\n",
    "plt.imshow(background_img_rot, cmap='gray')"
   ]
  },
  {
   "cell_type": "code",
   "execution_count": 35,
   "id": "a4683947",
   "metadata": {},
   "outputs": [],
   "source": [
    "# 0 = nichts\n",
    "# 129 = DB\n",
    "# 255 = RNV\n",
    "\n",
    "# iterate over all pixels. If at pos xy there is 129, add the pixel xy with the DB color to the csv. If there is 255, add with RNV color.\n",
    "\n",
    "import pandas as pd\n",
    "\n",
    "\n",
    "DB_VALUE = 129\n",
    "RNV_VALUE = 255\n",
    "\n",
    "RNV_BACKGROUND_COLOR = '111111'\n",
    "DB_BACKGROUND_COLOR = '220000'\n",
    "\n",
    "background_lighting_rows = []\n",
    "\n",
    "\n",
    "for y in range(background_img_rot.shape[0]):\n",
    "    for x in range(background_img_rot.shape[1]):\n",
    "        pixel = background_img_rot[y,x]\n",
    "        \n",
    "        if pixel == DB_VALUE:\n",
    "            background_lighting_row = pd.DataFrame(data={'led': [f\"{x}-{y}\"], 'color': [DB_BACKGROUND_COLOR]})\n",
    "            background_lighting_rows.append(background_lighting_row)\n",
    "        \n",
    "        if pixel == RNV_VALUE:\n",
    "            background_lighting_row = pd.DataFrame(data={'led': [f\"{x}-{y}\"], 'color': [RNV_BACKGROUND_COLOR]})\n",
    "            background_lighting_rows.append(background_lighting_row)\n",
    "            \n",
    "df_background_lighting = pd.concat(background_lighting_rows)\n",
    "\n",
    "df_background_lighting.to_csv('background_lighting.csv', index=False)\n",
    "        \n",
    "            \n"
   ]
  },
  {
   "cell_type": "code",
   "execution_count": null,
   "id": "d712737c",
   "metadata": {},
   "outputs": [],
   "source": []
  }
 ],
 "metadata": {
  "kernelspec": {
   "display_name": "venv",
   "language": "python",
   "name": "python3"
  },
  "language_info": {
   "codemirror_mode": {
    "name": "ipython",
    "version": 3
   },
   "file_extension": ".py",
   "mimetype": "text/x-python",
   "name": "python",
   "nbconvert_exporter": "python",
   "pygments_lexer": "ipython3",
   "version": "3.11.9"
  }
 },
 "nbformat": 4,
 "nbformat_minor": 5
}
