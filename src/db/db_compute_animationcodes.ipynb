{
 "cells": [
  {
   "cell_type": "markdown",
   "id": "d65a60cf",
   "metadata": {},
   "source": [
    "# Compute animationcodes of DB Trips\n",
    "\n",
    "- load timetable from disk\n",
    "- optionally apply realtime updates\n",
    "- compute arrival and departure direction\n",
    "- compute statuscodes\n",
    "\n",
    "runs every 30 seconds\n",
    "(in cron, register one job to run every minute and the other as well, but with 30s sleep at first)\n",
    "\n",
    "## convenience functions"
   ]
  },
  {
   "cell_type": "code",
   "execution_count": 9,
   "id": "df883b78",
   "metadata": {},
   "outputs": [
    {
     "name": "stdout",
     "output_type": "stream",
     "text": [
      "250810\n",
      "2508101222\n",
      "2025-08-10\n",
      "2025-08-10 12:22:00\n"
     ]
    }
   ],
   "source": [
    "# chatgpt generiert lol\n",
    "import datetime\n",
    "def dateToDBDate(date: datetime.date) -> str:\n",
    "    \"\"\"\n",
    "    Wandelt ein datetime.date Objekt in einen DB-Date-String \"YYMMDD\" um.\n",
    "    \"\"\"\n",
    "    return date.strftime(\"%y%m%d\")\n",
    "\n",
    "\n",
    "def datetimeToDBDatetime(dt: datetime.datetime) -> str:\n",
    "    \"\"\"\n",
    "    Wandelt ein datetime.datetime Objekt in einen DB-Datetime-String \"YYMMDDHHMM\" um.\n",
    "    \"\"\"\n",
    "    return dt.strftime(\"%y%m%d%H%M\")\n",
    "\n",
    "\n",
    "def DBDatetimeToDatetime(dbDate: str) -> datetime.datetime:\n",
    "    \"\"\"\n",
    "    Wandelt einen DB-Datetime-String \"YYMMDDHHMM\" in ein datetime.datetime Objekt um.\n",
    "    \"\"\"\n",
    "    return datetime.datetime.strptime(dbDate, \"%y%m%d%H%M\")\n",
    "\n",
    "\n",
    "def DBDateToDate(dbDate: str) -> datetime.date:\n",
    "    \"\"\"\n",
    "    Wandelt einen DB-Date-String \"YYMMDD\" in ein datetime.date Objekt um.\n",
    "    \"\"\"\n",
    "    return datetime.datetime.strptime(dbDate, \"%y%m%d\").date()\n",
    "    \n",
    "       \n",
    "print(dateToDBDate(datetime.date(2025, 8, 10)))\n",
    "print(datetimeToDBDatetime(datetime.datetime(2025, 8, 10, 12, 22)))\n",
    "print(DBDateToDate(\"250810\"))\n",
    "print(DBDatetimeToDatetime(\"2508101222\"))"
   ]
  },
  {
   "cell_type": "markdown",
   "id": "d4c3d2af",
   "metadata": {},
   "source": [
    "## load timetable from disk"
   ]
  },
  {
   "cell_type": "code",
   "execution_count": 10,
   "id": "76713c57",
   "metadata": {},
   "outputs": [
    {
     "name": "stdout",
     "output_type": "stream",
     "text": [
      "  category line arrival_dbtime  \\\n",
      "0        S    3     2508100453   \n",
      "1        S    2     2508100429   \n",
      "2        S    2            NaN   \n",
      "3        S    1     2508100403   \n",
      "4       RB   68            NaN   \n",
      "\n",
      "                                        arrival_path departure_dbtime  \\\n",
      "0  Ludwigshafen(Rh)Hbf|Ludwigshafen(Rhein) Mitte|...       2508100455   \n",
      "1  Mannheim Hbf|Mannheim-Friedrichsfeld Süd|Heide...              NaN   \n",
      "2                                                NaN       2508100432   \n",
      "3  Karlsruhe Hbf|Karlsruhe-Durlach|Weingarten(Bad...       2508100413   \n",
      "4                                                NaN       2508100520   \n",
      "\n",
      "                                      departure_path  \n",
      "0  Heidelberg-Kirchheim/Rohrbach|St Ilgen-Sandhau...  \n",
      "1                                                NaN  \n",
      "2  Heidelberg-Pfaffengrund/Wieblingen|Mannheim-Fr...  \n",
      "3  Heidelberg-Pfaffengrund/Wieblingen|Mannheim-Fr...  \n",
      "4  Heidelberg-Pfaffengrund/Wieblingen|Neu-Edingen...  \n"
     ]
    }
   ],
   "source": [
    "import pandas as pd\n",
    "\n",
    "df_timetable = pd.read_csv('db_timetable.csv', dtype=str)\n",
    "\n",
    "\n",
    "print(df_timetable.head(5))"
   ]
  },
  {
   "cell_type": "markdown",
   "id": "4e0888bd",
   "metadata": {},
   "source": [
    "# OPTIONAL IMPROVEMENT: APPLY REALTIME UPDATES HERE"
   ]
  },
  {
   "cell_type": "markdown",
   "id": "ca3d3d33",
   "metadata": {},
   "source": [
    "## add artificial departure / arrival times\n",
    "if a trip starts/ends in Heidelberg Hbf, the arrival / departure properties are missing. To allow correct animation and not make the train spawn somewhere on the tracks, it is assumed that trains stand 1 minute in the station before departuring / after arriving. Therefore, one minute of standing time is artificially added to rows that don't have an arrival / departure."
   ]
  },
  {
   "cell_type": "code",
   "execution_count": 11,
   "id": "aa0a609b",
   "metadata": {},
   "outputs": [
    {
     "name": "stdout",
     "output_type": "stream",
     "text": [
      "  category line arrival_dbtime  \\\n",
      "0        S    3     2508100453   \n",
      "1        S    2     2508100429   \n",
      "2        S    2     2508100431   \n",
      "3        S    1     2508100403   \n",
      "4       RB   68     2508100519   \n",
      "\n",
      "                                        arrival_path departure_dbtime  \\\n",
      "0  Ludwigshafen(Rh)Hbf|Ludwigshafen(Rhein) Mitte|...       2508100455   \n",
      "1  Mannheim Hbf|Mannheim-Friedrichsfeld Süd|Heide...       2508100430   \n",
      "2                                                NaN       2508100432   \n",
      "3  Karlsruhe Hbf|Karlsruhe-Durlach|Weingarten(Bad...       2508100413   \n",
      "4                                                NaN       2508100520   \n",
      "\n",
      "                                      departure_path  \n",
      "0  Heidelberg-Kirchheim/Rohrbach|St Ilgen-Sandhau...  \n",
      "1                                                NaN  \n",
      "2  Heidelberg-Pfaffengrund/Wieblingen|Mannheim-Fr...  \n",
      "3  Heidelberg-Pfaffengrund/Wieblingen|Mannheim-Fr...  \n",
      "4  Heidelberg-Pfaffengrund/Wieblingen|Neu-Edingen...  \n"
     ]
    }
   ],
   "source": [
    "import datetime\n",
    "\n",
    "def fillEmptyArrivals(timetable_row):\n",
    "    if pd.isna(timetable_row['arrival_dbtime']):\n",
    "        departure_datetime = DBDatetimeToDatetime(timetable_row['departure_dbtime'])\n",
    "        artificial_arrival_datetime = departure_datetime - datetime.timedelta(minutes=1)\n",
    "        timetable_row['arrival_dbtime'] = datetimeToDBDatetime(artificial_arrival_datetime)\n",
    "    return timetable_row\n",
    "\n",
    "def fillEmptyDepartures(timetable_row):\n",
    "    if pd.isna(timetable_row['departure_dbtime']):\n",
    "        arrival_datetime = DBDatetimeToDatetime(timetable_row['arrival_dbtime'])\n",
    "        artificial_departure_datetime = arrival_datetime + datetime.timedelta(minutes=1)\n",
    "        timetable_row['departure_dbtime'] = datetimeToDBDatetime(artificial_departure_datetime)\n",
    "    return timetable_row\n",
    "        \n",
    "df_timetable = df_timetable.apply(func=fillEmptyArrivals, axis=1)\n",
    "df_timetable = df_timetable.apply(func=fillEmptyDepartures, axis=1)\n",
    "\n",
    "print(df_timetable.head(5))\n",
    "        \n",
    "        "
   ]
  },
  {
   "cell_type": "markdown",
   "id": "be58e651",
   "metadata": {},
   "source": [
    "## compute arrival / departure direction\n",
    "next, we want to compute the direction, from which a train is coming / to which a train is departuring. In the current model there are 4 possible directions that will be identified as north, south, west and east depending on which stations the respective planned path contains. There a multiple marker stations that are searched for in the path to determine the direction.\n"
   ]
  },
  {
   "cell_type": "code",
   "execution_count": 12,
   "id": "52919daf",
   "metadata": {},
   "outputs": [],
   "source": [
    "north_marker_stations = ['Neu-Edingen/Friedrichsfeld', 'Weinheim(Bergstr)Hbf', 'Bensheim', 'Darmstadt Hbf'] # RB68, FV nach Darmstadt\n",
    "east_marker_stations = ['Heidelberg-Altstadt', 'Neckargemünd', 'Eberbach', 'Meckesheim'] # S1, S2, S5, S51, RE10a, RE10b\n",
    "south_marker_stations = ['Wiesloch-Walldorf', 'Bruchsal', 'Karlsruhe Hbf', 'Vaihingen(Enz)','Stuttgart Hbf', 'Esslingen(Neckar)', 'Ulm Hbf'] # S3, S4, RE71, RE73, FV nach Karlsruhe, Stuttgart, Ulm \n",
    "west_marker_stations = ['Mannheim Hbf', 'Ludwigshafen(Rhein) Mitte','Ludwigshafen(Rh)Hbf'] # S1, S2, S3, S4, RE10a, RE10b, FV über Mannheim nach Wiesbaden / Mainz / Frankfurt \n",
    "\n",
    "\n",
    "\n",
    "\n",
    "def compute_path_direction(path: str):\n",
    "    # check if path contains any of the marker stations\n",
    "    if pd.isna(path):\n",
    "        return \"DEPOT\"\n",
    "    if any(station in path for station in north_marker_stations):\n",
    "        return \"north\"\n",
    "    if any(station in path for station in east_marker_stations):\n",
    "        return \"east\"\n",
    "    if any(station in path for station in west_marker_stations):\n",
    "        return \"west\"\n",
    "    if any(station in path for station in south_marker_stations):\n",
    "        return \"south\"\n",
    " \n",
    "   \n",
    "df_timetable['arrival_direction'] = df_timetable['arrival_path'].map(compute_path_direction)\n",
    "#df_timetable = df_timetable.drop('arrival_path', axis=1)\n",
    "\n",
    "df_timetable['departure_direction'] = df_timetable['departure_path'].map(compute_path_direction)\n",
    "#df_timetable = df_timetable.drop('departure_path', axis=1)\n",
    "\n",
    "df_timetable.to_csv('temp.csv')"
   ]
  },
  {
   "cell_type": "markdown",
   "id": "fdd7fa61",
   "metadata": {},
   "source": [
    "## compute animation class\n",
    "trips are classified into two animation classes, depending on which station stops have to be animated.  \n",
    "Class NV: S, RB - stop at Hbf, Kirchheim/Rohrbach, Weststadt/Südstadt, Pfaffengrund/Wieblingen, Neu-Edingen/Friedrichsfeld  \n",
    "Class FV: everything else (RE, FLX, IC, ICE, NJ, RJ, RJX, TGV) - only stop at Hbf  \n",
    "The class will be included in the statuscode\n",
    "each class gets their own statuscode_led_mapping, so that the statuscode can be computed in ticks after / before HD Hbf, and depending on the class the statuscodes mean different positions to account for stops\n"
   ]
  },
  {
   "cell_type": "markdown",
   "id": "4b10c3b2",
   "metadata": {},
   "source": [
    "## compute animation color\n",
    "each category receives a (not unique) color, which is used to display the respective trip.\n",
    "The color will later be included into the animationcode in two ways, the original color and a dimmed color for the trail"
   ]
  },
  {
   "cell_type": "code",
   "execution_count": null,
   "id": "561a0e26",
   "metadata": {},
   "outputs": [],
   "source": []
  },
  {
   "cell_type": "markdown",
   "id": "e4c7ea65",
   "metadata": {},
   "source": [
    "## compute animationcodes\n"
   ]
  },
  {
   "cell_type": "code",
   "execution_count": null,
   "id": "49e01069",
   "metadata": {},
   "outputs": [],
   "source": []
  },
  {
   "cell_type": "markdown",
   "id": "fff61d01",
   "metadata": {},
   "source": [
    "## save to disk"
   ]
  },
  {
   "cell_type": "code",
   "execution_count": null,
   "id": "41ca22b9",
   "metadata": {},
   "outputs": [],
   "source": []
  }
 ],
 "metadata": {
  "kernelspec": {
   "display_name": "venv",
   "language": "python",
   "name": "python3"
  },
  "language_info": {
   "codemirror_mode": {
    "name": "ipython",
    "version": 3
   },
   "file_extension": ".py",
   "mimetype": "text/x-python",
   "name": "python",
   "nbconvert_exporter": "python",
   "pygments_lexer": "ipython3",
   "version": "3.11.9"
  }
 },
 "nbformat": 4,
 "nbformat_minor": 5
}
