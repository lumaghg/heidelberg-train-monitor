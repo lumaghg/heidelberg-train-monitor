{
 "cells": [
  {
   "cell_type": "markdown",
   "id": "d65a60cf",
   "metadata": {},
   "source": [
    "# Compute animationcodes of DB Trips\n",
    "\n",
    "- load timetable from disk\n",
    "- optionally apply realtime updates\n",
    "- compute arrival and departure direction\n",
    "- compute statuscodes\n",
    "\n",
    "runs every 30 seconds\n",
    "(in cron, register one job to run every minute and the other as well, but with 30s sleep at first)\n",
    "\n",
    "## convenience functions"
   ]
  },
  {
   "cell_type": "code",
   "execution_count": 30,
   "id": "1c09d465",
   "metadata": {},
   "outputs": [],
   "source": [
    "# settings\n",
    "TICK_LENGTH_SECONDS = 30\n",
    "SECONDARY_COLOR_DIM_FACTOR = 0.3"
   ]
  },
  {
   "cell_type": "code",
   "execution_count": 31,
   "id": "df883b78",
   "metadata": {},
   "outputs": [
    {
     "name": "stdout",
     "output_type": "stream",
     "text": [
      "250810\n",
      "2508101222\n",
      "2025-08-10\n",
      "2025-08-10 12:22:00\n"
     ]
    }
   ],
   "source": [
    "# chatgpt generiert lol\n",
    "import datetime\n",
    "def dateToDBDate(date: datetime.date) -> str:\n",
    "    \"\"\"\n",
    "    Wandelt ein datetime.date Objekt in einen DB-Date-String \"YYMMDD\" um.\n",
    "    \"\"\"\n",
    "    return date.strftime(\"%y%m%d\")\n",
    "\n",
    "\n",
    "def datetimeToDBDatetime(dt: datetime.datetime) -> str:\n",
    "    \"\"\"\n",
    "    Wandelt ein datetime.datetime Objekt in einen DB-Datetime-String \"YYMMDDHHMM\" um.\n",
    "    \"\"\"\n",
    "    return dt.strftime(\"%y%m%d%H%M\")\n",
    "\n",
    "\n",
    "def DBDatetimeToDatetime(dbDate: str) -> datetime.datetime:\n",
    "    \"\"\"\n",
    "    Wandelt einen DB-Datetime-String \"YYMMDDHHMM\" in ein datetime.datetime Objekt um.\n",
    "    \"\"\"\n",
    "    return datetime.datetime.strptime(dbDate, \"%y%m%d%H%M\")\n",
    "\n",
    "\n",
    "def DBDateToDate(dbDate: str) -> datetime.date:\n",
    "    \"\"\"\n",
    "    Wandelt einen DB-Date-String \"YYMMDD\" in ein datetime.date Objekt um.\n",
    "    \"\"\"\n",
    "    return datetime.datetime.strptime(dbDate, \"%y%m%d\").date()\n",
    "    \n",
    "       \n",
    "print(dateToDBDate(datetime.date(2025, 8, 10)))\n",
    "print(datetimeToDBDatetime(datetime.datetime(2025, 8, 10, 12, 22)))\n",
    "print(DBDateToDate(\"250810\"))\n",
    "print(DBDatetimeToDatetime(\"2508101222\"))"
   ]
  },
  {
   "cell_type": "markdown",
   "id": "d4c3d2af",
   "metadata": {},
   "source": [
    "## load timetable from disk"
   ]
  },
  {
   "cell_type": "code",
   "execution_count": 32,
   "id": "76713c57",
   "metadata": {},
   "outputs": [
    {
     "name": "stdout",
     "output_type": "stream",
     "text": [
      "  category line arrival_dbdatetime  \\\n",
      "0       RE    1                NaN   \n",
      "1        S    3         2508120816   \n",
      "2       RE   71         2508120819   \n",
      "3        S    2         2508120823   \n",
      "4        S   51         2508120857   \n",
      "\n",
      "                                        arrival_path departure_dbdatetime  \\\n",
      "0                                                NaN           2508120817   \n",
      "1  Kaiserslautern Hbf|Hochspeyer|Frankenstein(Pfa...           2508120818   \n",
      "2    Bruchsal|Bad Schönborn-Kronau|Wiesloch-Walldorf                  NaN   \n",
      "3  Kaiserslautern Hbf|Hochspeyer|Frankenstein(Pfa...           2508120825   \n",
      "4  Aglasterhausen|Helmstadt(Baden)|Neckarbischofs...                  NaN   \n",
      "\n",
      "                                      departure_path  \n",
      "0  Mannheim Hbf|Ludwigshafen(Rhein) Mitte|Neustad...  \n",
      "1  Heidelberg-Kirchheim/Rohrbach|St Ilgen-Sandhau...  \n",
      "2                                                NaN  \n",
      "3  Heidelberg-Weststadt/Südstadt|Heidelberg-Altst...  \n",
      "4                                                NaN  \n"
     ]
    }
   ],
   "source": [
    "import pandas as pd\n",
    "\n",
    "df_timetable = pd.read_csv('db_timetable.csv', dtype=str)\n",
    "\n",
    "\n",
    "print(df_timetable.head(5))"
   ]
  },
  {
   "cell_type": "markdown",
   "id": "4e0888bd",
   "metadata": {},
   "source": [
    "# OPTIONAL IMPROVEMENT: APPLY REALTIME UPDATES HERE"
   ]
  },
  {
   "cell_type": "markdown",
   "id": "ca3d3d33",
   "metadata": {},
   "source": [
    "## add artificial departure / arrival times\n",
    "if a trip starts/ends in Heidelberg Hbf, the arrival / departure properties are missing. To allow correct animation and not make the train spawn somewhere on the tracks, it is assumed that trains stand 1 minute in the station before departuring / after arriving. Therefore, one minute of standing time is artificially added to rows that don't have an arrival / departure."
   ]
  },
  {
   "cell_type": "code",
   "execution_count": 33,
   "id": "aa0a609b",
   "metadata": {},
   "outputs": [
    {
     "name": "stdout",
     "output_type": "stream",
     "text": [
      "  category line arrival_dbdatetime  \\\n",
      "0       RE    1         2508120816   \n",
      "1        S    3         2508120816   \n",
      "2       RE   71         2508120819   \n",
      "3        S    2         2508120823   \n",
      "4        S   51         2508120857   \n",
      "\n",
      "                                        arrival_path departure_dbdatetime  \\\n",
      "0                                                NaN           2508120817   \n",
      "1  Kaiserslautern Hbf|Hochspeyer|Frankenstein(Pfa...           2508120818   \n",
      "2    Bruchsal|Bad Schönborn-Kronau|Wiesloch-Walldorf           2508120820   \n",
      "3  Kaiserslautern Hbf|Hochspeyer|Frankenstein(Pfa...           2508120825   \n",
      "4  Aglasterhausen|Helmstadt(Baden)|Neckarbischofs...           2508120858   \n",
      "\n",
      "                                      departure_path  \n",
      "0  Mannheim Hbf|Ludwigshafen(Rhein) Mitte|Neustad...  \n",
      "1  Heidelberg-Kirchheim/Rohrbach|St Ilgen-Sandhau...  \n",
      "2                                                NaN  \n",
      "3  Heidelberg-Weststadt/Südstadt|Heidelberg-Altst...  \n",
      "4                                                NaN  \n"
     ]
    }
   ],
   "source": [
    "import datetime\n",
    "\n",
    "def fillEmptyArrivals(timetable_row):\n",
    "    if pd.isna(timetable_row['arrival_dbdatetime']):\n",
    "        departure_datetime = DBDatetimeToDatetime(timetable_row['departure_dbdatetime'])\n",
    "        artificial_arrival_datetime = departure_datetime - datetime.timedelta(minutes=1)\n",
    "        timetable_row['arrival_dbdatetime'] = datetimeToDBDatetime(artificial_arrival_datetime)\n",
    "    return timetable_row\n",
    "\n",
    "def fillEmptyDepartures(timetable_row):\n",
    "    if pd.isna(timetable_row['departure_dbdatetime']):\n",
    "        arrival_datetime = DBDatetimeToDatetime(timetable_row['arrival_dbdatetime'])\n",
    "        artificial_departure_datetime = arrival_datetime + datetime.timedelta(minutes=1)\n",
    "        timetable_row['departure_dbdatetime'] = datetimeToDBDatetime(artificial_departure_datetime)\n",
    "    return timetable_row\n",
    "        \n",
    "df_timetable = df_timetable.apply(func=fillEmptyArrivals, axis=1)\n",
    "df_timetable = df_timetable.apply(func=fillEmptyDepartures, axis=1)\n",
    "\n",
    "print(df_timetable.head(5))\n",
    "        \n",
    "        "
   ]
  },
  {
   "cell_type": "markdown",
   "id": "be58e651",
   "metadata": {},
   "source": [
    "## compute arrival / departure direction\n",
    "next, we want to compute the direction, from which a train is coming / to which a train is departuring. In the current model there are 4 possible directions that will be identified as north, south, west and east depending on which stations the respective planned path contains. There a multiple marker stations that are searched for in the path to determine the direction.\n"
   ]
  },
  {
   "cell_type": "code",
   "execution_count": 34,
   "id": "52919daf",
   "metadata": {},
   "outputs": [],
   "source": [
    "north_marker_stations = ['Neu-Edingen/Friedrichsfeld', 'Weinheim(Bergstr)Hbf', 'Bensheim', 'Darmstadt Hbf'] # RB68, FV nach Darmstadt\n",
    "east_marker_stations = ['Heidelberg-Altstadt', 'Neckargemünd', 'Eberbach', 'Meckesheim'] # S1, S2, S5, S51, RE10a, RE10b\n",
    "south_marker_stations = ['Wiesloch-Walldorf', 'Bruchsal', 'Karlsruhe Hbf', 'Vaihingen(Enz)','Stuttgart Hbf', 'Esslingen(Neckar)', 'Ulm Hbf'] # S3, S4, RE71, RE73, FV nach Karlsruhe, Stuttgart, Ulm \n",
    "west_marker_stations = ['Mannheim Hbf', 'Ludwigshafen(Rhein) Mitte','Ludwigshafen(Rh)Hbf'] # S1, S2, S3, S4, RE10a, RE10b, FV über Mannheim nach Wiesbaden / Mainz / Frankfurt \n",
    "\n",
    "\n",
    "\n",
    "\n",
    "def compute_path_direction(path: str):\n",
    "    # check if path contains any of the marker stations\n",
    "    if pd.isna(path):\n",
    "        return \"DEPOT\"\n",
    "    if any(station in path for station in north_marker_stations):\n",
    "        return \"north\"\n",
    "    if any(station in path for station in east_marker_stations):\n",
    "        return \"east\"\n",
    "    if any(station in path for station in west_marker_stations):\n",
    "        return \"west\"\n",
    "    if any(station in path for station in south_marker_stations):\n",
    "        return \"south\"\n",
    " \n",
    "   \n",
    "df_timetable['arrival_direction'] = df_timetable['arrival_path'].map(compute_path_direction)\n",
    "#df_timetable = df_timetable.drop('arrival_path', axis=1)\n",
    "\n",
    "df_timetable['departure_direction'] = df_timetable['departure_path'].map(compute_path_direction)\n",
    "#df_timetable = df_timetable.drop('departure_path', axis=1)\n",
    "\n"
   ]
  },
  {
   "cell_type": "markdown",
   "id": "fdd7fa61",
   "metadata": {},
   "source": [
    "## compute animation class\n",
    "trips are classified into two animation classes, depending on which station stops have to be animated and which train length is animated.  \n",
    "Class SNV (S-Bahn und Nahverkehr): S, RB - stop at Hbf, Kirchheim/Rohrbach, Weststadt/Südstadt, Pfaffengrund/Wieblingen, Neu-Edingen/Friedrichsfeld  \n",
    "Class RFV (Regional- und Fernverkehr): everything else (RE, FLX, IC, ICE, NJ, RJ, RJX, TGV) - only stop at Hbf   \n",
    "\n",
    "The class will be included in the statuscode\n",
    "each class gets their own statuscode_led_mapping, so that the statuscode can be computed in ticks after / before HD Hbf, and depending on the class the statuscodes mean different positions to account for stops.\n",
    "The different displayed train lengths will be realized by different statuscode_led_mappings, which contain all LEDs to light for a statuscode.\n",
    "\n",
    "SNV -> 2+1\n",
    "RFV -> 4+1\n"
   ]
  },
  {
   "cell_type": "code",
   "execution_count": 35,
   "id": "ab8bbeaa",
   "metadata": {},
   "outputs": [],
   "source": [
    "def compute_animation_class(category):\n",
    "    if category in ['S', 'RB']:\n",
    "        return 'SNV'\n",
    "    else:\n",
    "        return 'RFV'\n",
    "    \n",
    "df_timetable['animation_class'] = df_timetable['category'].map(compute_animation_class)"
   ]
  },
  {
   "cell_type": "markdown",
   "id": "4b10c3b2",
   "metadata": {},
   "source": [
    "## compute animation color\n",
    "each category receives a (not unique) color, which is used to display the respective trip.\n",
    "The color will later be included into the animationcode in two ways, the original color and a dimmed color for the trail"
   ]
  },
  {
   "cell_type": "code",
   "execution_count": 36,
   "id": "561a0e26",
   "metadata": {},
   "outputs": [],
   "source": [
    "def compute_animation_color(category):\n",
    "    if category in ['S']:\n",
    "        # Color of the S-Bahn Logo\n",
    "        return '308446'\n",
    "    \n",
    "    # maybe change RE to bwegt yellow color\n",
    "    if category in ['RE', 'RB']:\n",
    "        # Color of DB Regional Trains (Verkehrsrot)\n",
    "        return 'E3131E'\n",
    "    \n",
    "    if category in ['FLX']:\n",
    "        # Color of Flixtrains\n",
    "        return '00E71C'\n",
    "    \n",
    "    if category in ['NJ']:\n",
    "        # Color of Nightjets, maybe needs to be lightened to be visible\n",
    "        return \"2B2B81\"\n",
    "    \n",
    "    if category in ['IC', 'ICE']:\n",
    "        # White, like IC and ICE are painted <3\n",
    "        return 'FFFFFF'\n",
    "    \n",
    "    if category in ['RJ', 'RJX', 'TGV']:\n",
    "        # Bright pink to signalize something special\n",
    "        return 'BF1F9F'\n",
    "    \n",
    "    # yellow for unknown train categories\n",
    "    return 'F8FC00'\n",
    "\n",
    "df_timetable['animation_color'] = df_timetable['category'].map(compute_animation_color)\n",
    "\n",
    "\n",
    "    \n",
    "    "
   ]
  },
  {
   "cell_type": "markdown",
   "id": "e4c7ea65",
   "metadata": {},
   "source": [
    "## compute animationcodes\n",
    "\n",
    "the computation of statuscodes works differently than the rnv computation. As rnv uses gtfs data, the status inside the animationcode shows the absolute position of the train on the network. Therefore only trains that are actually currently on the network can have a status / animationcode. For the DB data however, the position is noted relative to the arrival / departure time at Heidelberg Hbf by the difference of ticks between the current time and the arrival / departure time. Therefore every train can have a status / animationcode. Trains that are too far away from arriving or departing e.g. a train that will arrive in 30 minutes (=60 ticks) and can therefore not be displayed yet will simple by ignored by the display-animationcodes script, as the statuscode will not have a corresponding mapping entry in the LED and will just be skipped. Likewise trains arriving from the depot will be ignored until they are in the station, as there simply won't be statuscode mapping entries for that\n",
    "\n",
    "There are two types of statuscodes:\n",
    "\n",
    "Train is in Heidelberg Hbf: Statuscode consists of HDHBF_{facing_direction} with the direction being either northwest, southeast or none, depending on where the train is departing to. \n",
    "Train is not in heidelberg hbf: in this case, The statuscode consist of the direction the train is looking from Heidelberg Hbf (north, east, south, west), the ticks (tick length 30s, diff_seconds / 30, rounded up, so 1 is the lowest possible value) it is away from Heidelberg Hbf and whether the train is inbound or outbound (inbound/outbound). \n",
    "\n",
    "lastly, the animationclass, statuscode and animation colors have to be put together into one string"
   ]
  },
  {
   "cell_type": "code",
   "execution_count": null,
   "id": "49e01069",
   "metadata": {},
   "outputs": [],
   "source": [
    "import math\n",
    "\n",
    "def dim_hex_color(hex_color, factor):\n",
    "    # HEX -> RGB\n",
    "    r = int(hex_color[0:2], 16)\n",
    "    g = int(hex_color[2:4], 16)\n",
    "    b = int(hex_color[4:6], 16)\n",
    "\n",
    "    # Dimmen und sicherstellen, dass der Wert im Bereich [0, 255] bleibt\n",
    "    r = int(max(0, min(255, r * factor)))\n",
    "    g = int(max(0, min(255, g * factor)))\n",
    "    b = int(max(0, min(255, b * factor)))\n",
    "\n",
    "    # RGB -> HEX\n",
    "    return \"{:02X}{:02X}{:02X}\".format(r, g, b)\n",
    "\n",
    "def add_statuscode(timetable_row):\n",
    "    \n",
    "    arrival_datetime = DBDatetimeToDatetime(timetable_row['arrival_dbdatetime'])\n",
    "    departure_datetime = DBDatetimeToDatetime(timetable_row['departure_dbdatetime'])\n",
    "    now_datetime = datetime.datetime.now()\n",
    "    \n",
    "    statuscode = ''\n",
    "    \n",
    "    # arrival has happened, departure hasn't happened -> standing in Heidelberg Hbf\n",
    "    if(arrival_datetime < now_datetime < departure_datetime):\n",
    "        departure_direction = timetable_row['departure_direction']\n",
    "        \n",
    "        facing_to = None\n",
    "        if departure_direction in ['north', 'west']:\n",
    "            facing_to = 'northwest'\n",
    "        if departure_direction in ['south', 'east']:\n",
    "            facing_to = 'southeast'\n",
    "        if departure_direction in ['DEPOT']:\n",
    "            facing_to = 'DEPOT'\n",
    "        \n",
    "        statuscode = f'HDHBF_{facing_to}'\n",
    "\n",
    "    # arrival hasn't happened -> inbound\n",
    "    elif(now_datetime < arrival_datetime):\n",
    "        arrival_direction = timetable_row['arrival_direction']\n",
    "        \n",
    "        timedelta_to_arrival = arrival_datetime - now_datetime\n",
    "        seconds_to_arrival = timedelta_to_arrival.total_seconds()\n",
    "        ticks_to_arrival = math.ceil(seconds_to_arrival / TICK_LENGTH_SECONDS)\n",
    "        \n",
    "        # ignore everything that doesn't arrive for another 30 minutes and just return row unchanged\n",
    "        if seconds_to_arrival > 30 * 60:\n",
    "            return timetable_row\n",
    "        \n",
    "        statuscode = f\"{arrival_direction}_{ticks_to_arrival}_INBOUND\"\n",
    "        \n",
    "    # departure has happened -> outbound\n",
    "    elif(departure_datetime < now_datetime):\n",
    "        departure_direction = timetable_row['departure_direction']\n",
    "        \n",
    "        timedelta_since_departure = now_datetime - departure_datetime\n",
    "        seconds_since_departure = timedelta_since_departure.total_seconds()\n",
    "        ticks_since_departure = math.ceil(seconds_since_departure / TICK_LENGTH_SECONDS)\n",
    "        \n",
    "         # ignore everything that departed more than 30 minutes ago and just return row unchanged\n",
    "        if seconds_since_departure > 30 * 60:\n",
    "            return timetable_row\n",
    "        \n",
    "        statuscode = f\"{departure_direction}_{ticks_since_departure}_OUTBOUND\"\n",
    "    \n",
    "    \n",
    "    animation_class = timetable_row['animation_class']\n",
    "    primary_animation_color = timetable_row['animation_color']\n",
    "    secondary_animation_color = dim_hex_color(primary_animation_color, SECONDARY_COLOR_DIM_FACTOR)\n",
    "    \n",
    "    animationcode = f\"DB_{animation_class}:{statuscode}#{primary_animation_color}_{secondary_animation_color}\"\n",
    "    \n",
    "    timetable_row['animationcode'] = animationcode\n",
    "    return timetable_row\n",
    "\n",
    "df_timetable = df_timetable.apply(add_statuscode, axis=1)"
   ]
  },
  {
   "cell_type": "markdown",
   "id": "fff61d01",
   "metadata": {},
   "source": [
    "## save to disk"
   ]
  },
  {
   "cell_type": "code",
   "execution_count": 38,
   "id": "41ca22b9",
   "metadata": {},
   "outputs": [],
   "source": [
    "df_animationcodes = df_timetable['animationcode'].dropna()\n",
    "\n",
    "df_animationcodes.to_csv('db_animationcodes.csv', index=False)"
   ]
  },
  {
   "cell_type": "markdown",
   "id": "8f305ce9",
   "metadata": {},
   "source": [
    "## control dataframe"
   ]
  },
  {
   "cell_type": "code",
   "execution_count": null,
   "id": "2b1896a9",
   "metadata": {},
   "outputs": [],
   "source": [
    "#df_control = df_timetable\n",
    "\n",
    "#df_control['trip_name'] = df_control.apply(lambda row: f\"{row['category']} {row['line']}\", axis=1)\n",
    "#df_control['arrival'] = df_control['arrival_dbdatetime'].map(lambda arrival_dbdatetime: arrival_dbdatetime[6:])\n",
    "#df_control['departure'] = df_control['departure_dbdatetime'].map(lambda departure_dbdatetime: departure_dbdatetime[6:])\n",
    "\n",
    "#df_control = df_control.drop(columns=[\"animation_class\"])\n",
    "\n",
    "#df_control[['trip_name', 'arrival', 'departure', 'animationcode']].to_csv(\"control.csv\")"
   ]
  }
 ],
 "metadata": {
  "kernelspec": {
   "display_name": "venv",
   "language": "python",
   "name": "python3"
  },
  "language_info": {
   "codemirror_mode": {
    "name": "ipython",
    "version": 3
   },
   "file_extension": ".py",
   "mimetype": "text/x-python",
   "name": "python",
   "nbconvert_exporter": "python",
   "pygments_lexer": "ipython3",
   "version": "3.11.9"
  }
 },
 "nbformat": 4,
 "nbformat_minor": 5
}
