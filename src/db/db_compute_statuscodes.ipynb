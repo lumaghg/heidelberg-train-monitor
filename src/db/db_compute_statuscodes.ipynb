{
 "cells": [
  {
   "cell_type": "markdown",
   "id": "d65a60cf",
   "metadata": {},
   "source": [
    "# Compute Statuscodes of DB Trips\n",
    "\n",
    "- load timetable from disk\n",
    "- optionally apply realtime updates\n",
    "- compute arrival and departure direction\n",
    "- compute statuscodes\n",
    "\n",
    "runs every 30 seconds\n",
    "(in cron, register one job to run every minute and the other as well, but with 30s sleep at first)\n",
    "\n",
    "## load the timetable from disk"
   ]
  },
  {
   "cell_type": "code",
   "execution_count": null,
   "id": "76713c57",
   "metadata": {},
   "outputs": [],
   "source": [
    "import pandas as pd\n",
    "\n",
    "df_timetable = pd.read_csv('db')"
   ]
  },
  {
   "cell_type": "markdown",
   "id": "4e0888bd",
   "metadata": {},
   "source": [
    "# OPTIONAL IMPROVEMENT: APPLY REALTIME UPDATES HERE"
   ]
  },
  {
   "cell_type": "markdown",
   "id": "be58e651",
   "metadata": {},
   "source": [
    "## compute arrival / departure direction\n",
    "next, we want to compute the direction, from which a train is coming / to which a train is departuring. In the current model there are 4 possible directions that will be identified as north, south, west and east depending on which stations the respective planned path contains\n"
   ]
  },
  {
   "cell_type": "code",
   "execution_count": null,
   "id": "52919daf",
   "metadata": {},
   "outputs": [],
   "source": []
  },
  {
   "cell_type": "markdown",
   "id": "e4c7ea65",
   "metadata": {},
   "source": [
    "## compute statuscodes\n"
   ]
  },
  {
   "cell_type": "code",
   "execution_count": null,
   "id": "49e01069",
   "metadata": {},
   "outputs": [],
   "source": []
  }
 ],
 "metadata": {
  "language_info": {
   "name": "python"
  }
 },
 "nbformat": 4,
 "nbformat_minor": 5
}
