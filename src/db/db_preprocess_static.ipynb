{
 "cells": [
  {
   "cell_type": "markdown",
   "id": "08139850",
   "metadata": {},
   "source": [
    "# Preprocess static data from DB Timetables API\n",
    "\n",
    "- request departures and arrivals from / to relevant stations for the whole day\n",
    "- filter trains for relevant service types (e.g. ICE / S / RE etc.)\n",
    "- save to disk\n",
    "\n",
    "runs once at startup and once every night at 0:05 am"
   ]
  },
  {
   "cell_type": "code",
   "execution_count": null,
   "id": "edd2bd92",
   "metadata": {},
   "outputs": [],
   "source": []
  }
 ],
 "metadata": {
  "language_info": {
   "name": "python"
  }
 },
 "nbformat": 4,
 "nbformat_minor": 5
}
