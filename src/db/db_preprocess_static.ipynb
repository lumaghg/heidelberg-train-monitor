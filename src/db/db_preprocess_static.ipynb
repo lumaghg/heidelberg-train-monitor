{
 "cells": [
  {
   "cell_type": "markdown",
   "id": "08139850",
   "metadata": {},
   "source": [
    "# Preprocess static data from DB Timetables API\n",
    "\n",
    "- request departures and arrivals from / to relevant stations for the whole day\n",
    "- filter trains for relevant service types (e.g. ICE / S / RE etc.)\n",
    "- save to disk\n",
    "\n",
    "runs once at startup and once every night at 0:05 am"
   ]
  },
  {
   "cell_type": "markdown",
   "id": "edd2bd92",
   "metadata": {},
   "source": [
    "## Request timetables for the current day from 1-23 am (0am doesnt work for some reason)"
   ]
  },
  {
   "cell_type": "markdown",
   "id": "6d28c235",
   "metadata": {},
   "source": [
    "### helper functions for handling db dates"
   ]
  },
  {
   "cell_type": "code",
   "execution_count": 59,
   "id": "ea6a6813",
   "metadata": {},
   "outputs": [
    {
     "data": {
      "text/plain": [
       "True"
      ]
     },
     "execution_count": 59,
     "metadata": {},
     "output_type": "execute_result"
    }
   ],
   "source": [
    "import datetime\n",
    "from dotenv import load_dotenv\n",
    "from os import getenv\n",
    "\n",
    "load_dotenv()\n",
    "\n"
   ]
  },
  {
   "cell_type": "code",
   "execution_count": 60,
   "id": "34c371ea",
   "metadata": {},
   "outputs": [
    {
     "name": "stdout",
     "output_type": "stream",
     "text": [
      "250810\n",
      "skipping hour 1, 404\n",
      "skipping hour 2, 404\n",
      "skipping hour 3, 404\n"
     ]
    }
   ],
   "source": [
    "# download all 23 available timeslots for the day\n",
    "import requests\n",
    "import xmltodict\n",
    "\n",
    "# load envs\n",
    "db_timetables_base_url = getenv(\"db_timetables_base_url\")\n",
    "db_client_id = getenv(\"db_client_id\")\n",
    "db_client_secret = getenv(\"db_client_secret\")\n",
    "\n",
    "eva_number_heidelberg_hbf = 8000156\n",
    "\n",
    "# prepare date\n",
    "date_today = datetime.date.today()\n",
    "dbdate_today = dateToDBDate(date_today)\n",
    "\n",
    "print(dbdate_today)\n",
    "\n",
    "# prepare request headers\n",
    "auth_headers = {\n",
    "    'DB-Client-Id': db_client_id,\n",
    "    'DB-Api-Key': db_client_secret\n",
    "}\n",
    "\n",
    "responses_xml = []\n",
    "\n",
    "for hour in range(1,24):\n",
    "    # {hour:02} means print hour, fill (0) up to 2 (2) digits\n",
    "    url = f\"{db_timetables_base_url}/plan/{eva_number_heidelberg_hbf}/{dbdate_today}/{hour:02}\"\n",
    "    \n",
    "    response = requests.get(url=url, headers=auth_headers)\n",
    "    if response.status_code != 200:\n",
    "        print(f\"skipping hour {hour}, {response.status_code}\")\n",
    "        continue\n",
    "    responses_xml.append(response)\n",
    "    "
   ]
  },
  {
   "cell_type": "markdown",
   "id": "e8b4ad6b",
   "metadata": {},
   "source": [
    "## process xml responses\n",
    "\n",
    "now that we have saved all the xmls we need, we can go through them one by one, extract the relevant attributes and save them in a dataframe "
   ]
  },
  {
   "cell_type": "code",
   "execution_count": null,
   "id": "3611706d",
   "metadata": {},
   "outputs": [
    {
     "name": "stdout",
     "output_type": "stream",
     "text": [
      "  category line arrival_dbtime  \\\n",
      "0        S    3     2508100453   \n",
      "1        S    2     2508100429   \n",
      "2        S    2           None   \n",
      "3        S    1     2508100403   \n",
      "4       RB   68           None   \n",
      "\n",
      "                                        arrival_path departure_dbtime  \\\n",
      "0  Ludwigshafen(Rh)Hbf|Ludwigshafen(Rhein) Mitte|...       2508100455   \n",
      "1  Mannheim Hbf|Mannheim-Friedrichsfeld Süd|Heide...             None   \n",
      "2                                               None       2508100432   \n",
      "3  Karlsruhe Hbf|Karlsruhe-Durlach|Weingarten(Bad...       2508100413   \n",
      "4                                               None       2508100520   \n",
      "\n",
      "                                      departure_path  \n",
      "0  Heidelberg-Kirchheim/Rohrbach|St Ilgen-Sandhau...  \n",
      "1                                               None  \n",
      "2  Heidelberg-Pfaffengrund/Wieblingen|Mannheim-Fr...  \n",
      "3  Heidelberg-Pfaffengrund/Wieblingen|Mannheim-Fr...  \n",
      "4  Heidelberg-Pfaffengrund/Wieblingen|Neu-Edingen...  \n"
     ]
    }
   ],
   "source": [
    "import pandas as pd\n",
    "\n",
    "timetable_rows = []\n",
    "\n",
    "for response_xml in responses_xml:\n",
    "    # convert response_xml to dict\n",
    "    timetable = xmltodict.parse(response_xml.content)\n",
    "\n",
    "    timetable_stops = timetable['timetable']['s']\n",
    "    \n",
    "    for timetable_stop in timetable_stops:\n",
    "        # category (e.g. ICE, RE, S)\n",
    "        trip_label = timetable_stop['tl']\n",
    "        category = trip_label['@c']\n",
    "        \n",
    "        \n",
    "        # arrival\n",
    "        arrival_dbtime = None\n",
    "        arrival_path = None\n",
    "        \n",
    "        if 'ar' in timetable_stop:\n",
    "            arrival = timetable_stop['ar']\n",
    "            arrival_dbtime = arrival['@pt']\n",
    "            arrival_path = arrival['@ppth']\n",
    "            \n",
    "        # departure\n",
    "        departure_dbtime = None\n",
    "        departure_path = None\n",
    "        \n",
    "        if 'dp' in timetable_stop:\n",
    "            departure = timetable_stop['dp']\n",
    "            departure_dbtime = departure['@pt']\n",
    "            departure_path = departure['@ppth']\n",
    "            \n",
    "            \n",
    "        \n",
    "        # line (just for development)\n",
    "        line = None\n",
    "        \n",
    "        if category in [\"ICE\", \"IC\", \"FLX\", \"RJ\", \"RJX\", \"NJ\", \"TGV\"]:\n",
    "            line = trip_label['@n']\n",
    "        elif 'ar' in timetable_stop:\n",
    "            line = timetable_stop['ar']['@l']\n",
    "        elif 'dp' in timetable_stop:\n",
    "            line = timetable_stop['dp']['@l']\n",
    "            \n",
    "        \n",
    "        \n",
    "        timetable_row = pd.DataFrame(data={'category':[category], 'line': [line], 'arrival_dbtime': [arrival_dbtime], 'arrival_path':[arrival_path], 'departure_dbtime':[departure_dbtime], 'departure_path':[departure_path]})\n",
    "        timetable_rows.append(timetable_row)\n",
    "\n",
    "df_timetable = pd.concat(timetable_rows, ignore_index=True)\n",
    "print(df_timetable.head(5))\n",
    "\n"
   ]
  },
  {
   "cell_type": "markdown",
   "id": "25a72ea3",
   "metadata": {},
   "source": [
    "finally, save the timetable to disk for later use throughout the day"
   ]
  },
  {
   "cell_type": "code",
   "execution_count": 62,
   "id": "15658c42",
   "metadata": {},
   "outputs": [],
   "source": [
    "df_timetable.to_csv('db_timetable.csv', index=False)"
   ]
  }
 ],
 "metadata": {
  "kernelspec": {
   "display_name": "venv",
   "language": "python",
   "name": "python3"
  },
  "language_info": {
   "codemirror_mode": {
    "name": "ipython",
    "version": 3
   },
   "file_extension": ".py",
   "mimetype": "text/x-python",
   "name": "python",
   "nbconvert_exporter": "python",
   "pygments_lexer": "ipython3",
   "version": "3.11.9"
  }
 },
 "nbformat": 4,
 "nbformat_minor": 5
}
