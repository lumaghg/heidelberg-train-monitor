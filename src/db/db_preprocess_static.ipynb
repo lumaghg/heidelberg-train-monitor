{
 "cells": [
  {
   "cell_type": "markdown",
   "id": "08139850",
   "metadata": {},
   "source": [
    "# Preprocess static data from DB Timetables API\n",
    "\n",
    "- request departures and arrivals from / to relevant stations for the whole day\n",
    "- filter trains for relevant service types (e.g. ICE / S / RE etc.)\n",
    "- save to disk\n",
    "\n",
    "runs once at startup and once every night at 0:05 am"
   ]
  },
  {
   "cell_type": "markdown",
   "id": "edd2bd92",
   "metadata": {},
   "source": [
    "## Request timetables for the current day from 1-23 am (0am doesnt work for some reason)"
   ]
  },
  {
   "cell_type": "markdown",
   "id": "6d28c235",
   "metadata": {},
   "source": [
    "### helper functions for handling db dates"
   ]
  },
  {
   "cell_type": "code",
   "execution_count": 5,
   "id": "ea6a6813",
   "metadata": {},
   "outputs": [
    {
     "name": "stdout",
     "output_type": "stream",
     "text": [
      "250810\n",
      "2508101222\n",
      "2025-08-10\n",
      "2025-08-10 12:22:00\n"
     ]
    }
   ],
   "source": [
    "import datetime\n",
    "from dotenv import load_dotenv\n",
    "from os import getenv\n",
    "\n",
    "load_dotenv()\n",
    "\n",
    "# chatgpt generiert lol\n",
    "import datetime\n",
    "def dateToDBDate(date: datetime.date) -> str:\n",
    "    \"\"\"\n",
    "    Wandelt ein datetime.date Objekt in einen DB-Date-String \"YYMMDD\" um.\n",
    "    \"\"\"\n",
    "    return date.strftime(\"%y%m%d\")\n",
    "\n",
    "\n",
    "def datetimeToDBDatetime(dt: datetime.datetime) -> str:\n",
    "    \"\"\"\n",
    "    Wandelt ein datetime.datetime Objekt in einen DB-Datetime-String \"YYMMDDHHMM\" um.\n",
    "    \"\"\"\n",
    "    return dt.strftime(\"%y%m%d%H%M\")\n",
    "\n",
    "\n",
    "def DBDatetimeToDatetime(dbDate: str) -> datetime.datetime:\n",
    "    \"\"\"\n",
    "    Wandelt einen DB-Datetime-String \"YYMMDDHHMM\" in ein datetime.datetime Objekt um.\n",
    "    \"\"\"\n",
    "    return datetime.datetime.strptime(dbDate, \"%y%m%d%H%M\")\n",
    "\n",
    "\n",
    "def DBDateToDate(dbDate: str) -> datetime.date:\n",
    "    \"\"\"\n",
    "    Wandelt einen DB-Date-String \"YYMMDD\" in ein datetime.date Objekt um.\n",
    "    \"\"\"\n",
    "    return datetime.datetime.strptime(dbDate, \"%y%m%d\").date()\n",
    "    \n",
    "       \n",
    "print(dateToDBDate(datetime.date(2025, 8, 10)))\n",
    "print(datetimeToDBDatetime(datetime.datetime(2025, 8, 10, 12, 22)))\n",
    "print(DBDateToDate(\"250810\"))\n",
    "print(DBDatetimeToDatetime(\"2508101222\"))"
   ]
  },
  {
   "cell_type": "code",
   "execution_count": 6,
   "id": "34c371ea",
   "metadata": {},
   "outputs": [
    {
     "name": "stdout",
     "output_type": "stream",
     "text": [
      "250813\n"
     ]
    }
   ],
   "source": [
    "# download all 23 available timeslots for the day\n",
    "import requests\n",
    "import xmltodict\n",
    "\n",
    "# load envs\n",
    "db_timetables_base_url = getenv(\"db_timetables_base_url\")\n",
    "db_client_id = getenv(\"db_client_id\")\n",
    "db_client_secret = getenv(\"db_client_secret\")\n",
    "\n",
    "eva_number_heidelberg_hbf = 8000156\n",
    "\n",
    "# prepare date\n",
    "date_today = datetime.date.today()\n",
    "dbdate_today = dateToDBDate(date_today)\n",
    "\n",
    "print(dbdate_today)\n",
    "\n",
    "# prepare request headers\n",
    "auth_headers = {\n",
    "    'DB-Client-Id': db_client_id,\n",
    "    'DB-Api-Key': db_client_secret\n",
    "}\n",
    "\n",
    "responses_xml = []\n",
    "\n",
    "for hour in range(1,24):\n",
    "    # {hour:02} means print hour, fill (0) up to 2 (2) digits\n",
    "    url = f\"{db_timetables_base_url}/plan/{eva_number_heidelberg_hbf}/{dbdate_today}/{hour:02}\"\n",
    "    \n",
    "    response = requests.get(url=url, headers=auth_headers)\n",
    "    if response.status_code != 200:\n",
    "        print(f\"skipping hour {hour}, {response.status_code}\")\n",
    "        continue\n",
    "    responses_xml.append(response)\n",
    "    "
   ]
  },
  {
   "cell_type": "markdown",
   "id": "e8b4ad6b",
   "metadata": {},
   "source": [
    "## process xml responses\n",
    "\n",
    "now that we have saved all the xmls we need, we can go through them one by one, extract the relevant attributes and save them in a dataframe "
   ]
  },
  {
   "cell_type": "code",
   "execution_count": 7,
   "id": "3611706d",
   "metadata": {},
   "outputs": [
    {
     "name": "stdout",
     "output_type": "stream",
     "text": [
      "  category   line arrival_dbdatetime  \\\n",
      "0       RE     73         2508130116   \n",
      "1       IC  60470         2508130104   \n",
      "2       RB     68         2508130134   \n",
      "3       NJ    470         2508130104   \n",
      "4        S      3         2508130140   \n",
      "\n",
      "                                        arrival_path departure_dbdatetime  \\\n",
      "0  Karlsruhe Hbf|Karlsruhe-Durlach|Bruchsal|Bad S...                 None   \n",
      "1  Zürich HB|Basel SBB|Basel Bad Bf|Freiburg(Brei...           2508130108   \n",
      "2  Frankfurt(Main)Hbf|Langen(Hess)|Darmstadt Hbf|...                 None   \n",
      "3  Zürich HB|Basel SBB|Basel Bad Bf|Freiburg(Brei...           2508130108   \n",
      "4  Ludwigshafen(Rh)Hbf|Ludwigshafen(Rhein) Mitte|...           2508130141   \n",
      "\n",
      "                                      departure_path  \n",
      "0                                               None  \n",
      "1  Darmstadt Hbf|Frankfurt(Main)Süd|Hanau Hbf|Göt...  \n",
      "2                                               None  \n",
      "3  Darmstadt Hbf|Frankfurt(Main)Süd|Hanau Hbf|Göt...  \n",
      "4  Heidelberg-Kirchheim/Rohrbach|St Ilgen-Sandhau...  \n"
     ]
    }
   ],
   "source": [
    "import pandas as pd\n",
    "\n",
    "def process_timetable_stop(timetable_stop):\n",
    "    # category (e.g. ICE, RE, S)\n",
    "    trip_label = timetable_stop['tl']\n",
    "    category = trip_label['@c']\n",
    "    \n",
    "    # arrival\n",
    "    arrival_dbdatetime = None\n",
    "    arrival_path = None\n",
    "    \n",
    "    if 'ar' in timetable_stop:\n",
    "        arrival = timetable_stop['ar']\n",
    "        arrival_dbdatetime = arrival['@pt']\n",
    "        arrival_path = arrival['@ppth']\n",
    "        \n",
    "    # departure\n",
    "    departure_dbdatetime = None\n",
    "    departure_path = None\n",
    "    \n",
    "    if 'dp' in timetable_stop:\n",
    "        departure = timetable_stop['dp']\n",
    "        departure_dbdatetime = departure['@pt']\n",
    "        departure_path = departure['@ppth']\n",
    "    \n",
    "    # line (just for development)\n",
    "    line = None\n",
    "    \n",
    "    if category in [\"ICE\", \"IC\", \"FLX\", \"RJ\", \"RJX\", \"NJ\", \"TGV\"]:\n",
    "        line = trip_label['@n']\n",
    "    elif 'ar' in timetable_stop:\n",
    "        line = timetable_stop['ar']['@l']\n",
    "    elif 'dp' in timetable_stop:\n",
    "        line = timetable_stop['dp']['@l']\n",
    "            \n",
    "    timetable_row = pd.DataFrame(data={'category':[category], 'line': [line], 'arrival_dbdatetime': [arrival_dbdatetime], 'arrival_path':[arrival_path], 'departure_dbdatetime':[departure_dbdatetime], 'departure_path':[departure_path]})\n",
    "    return timetable_row\n",
    "\n",
    "\n",
    "timetable_rows = []\n",
    "\n",
    "for response_xml in responses_xml:\n",
    "    # convert response_xml to dict\n",
    "    timetable = xmltodict.parse(response_xml.content)\n",
    "\n",
    "    timetable_stops = timetable['timetable']['s']\n",
    "    \n",
    "    # if there is only one trip in the requested hour, the xml parser parses the timetable stop entry into a dict rather than a list\n",
    "    if isinstance(timetable_stops, list):\n",
    "        for timetable_stop in timetable_stops:\n",
    "            timetable_row = process_timetable_stop(timetable_stop)\n",
    "            timetable_rows.append(timetable_row)\n",
    "    else:\n",
    "        timetable_row = process_timetable_stop(timetable_stops)\n",
    "        timetable_rows.append(timetable_row)\n",
    "\n",
    "df_timetable = pd.concat(timetable_rows, ignore_index=True)\n",
    "print(df_timetable.head(5))\n",
    "\n"
   ]
  },
  {
   "cell_type": "markdown",
   "id": "25a72ea3",
   "metadata": {},
   "source": [
    "finally, sort the list by arrival_dbdatetime and save the timetable to disk for later use throughout the day"
   ]
  },
  {
   "cell_type": "code",
   "execution_count": 8,
   "id": "15658c42",
   "metadata": {},
   "outputs": [],
   "source": [
    "df_timetable = df_timetable.drop_duplicates()\n",
    "df_timetable.to_csv('db_timetable.csv', index=False)"
   ]
  },
  {
   "cell_type": "code",
   "execution_count": null,
   "id": "41af60aa",
   "metadata": {},
   "outputs": [],
   "source": []
  }
 ],
 "metadata": {
  "kernelspec": {
   "display_name": "venv",
   "language": "python",
   "name": "python3"
  },
  "language_info": {
   "codemirror_mode": {
    "name": "ipython",
    "version": 3
   },
   "file_extension": ".py",
   "mimetype": "text/x-python",
   "name": "python",
   "nbconvert_exporter": "python",
   "pygments_lexer": "ipython3",
   "version": "3.11.9"
  }
 },
 "nbformat": 4,
 "nbformat_minor": 5
}
