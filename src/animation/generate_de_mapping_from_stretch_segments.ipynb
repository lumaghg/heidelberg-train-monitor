{
 "cells": [
  {
   "cell_type": "code",
   "execution_count": 2,
   "id": "08e8070a",
   "metadata": {},
   "outputs": [
    {
     "data": {
      "text/plain": [
       "0     None\n",
       "1     None\n",
       "2     None\n",
       "3     None\n",
       "4     None\n",
       "5     None\n",
       "6     None\n",
       "7     None\n",
       "8     None\n",
       "9     None\n",
       "10    None\n",
       "11    None\n",
       "12    None\n",
       "13    None\n",
       "14    None\n",
       "15    None\n",
       "16    None\n",
       "dtype: object"
      ]
     },
     "execution_count": 2,
     "metadata": {},
     "output_type": "execute_result"
    }
   ],
   "source": [
    "# automatically generate stretch segment entries for stretches that have no stretch_segment entries yet\n",
    "\n",
    "import pandas as pd\n",
    "import numpy as np\n",
    "\n",
    "STRETCH_SEGMENTS_PATH = '../de/static/stretch_segments.csv'\n",
    "DE_MAPPING_PATH = './mappings/de_mapping.csv'\n",
    "\n",
    "stretch_segments = pd.read_csv(STRETCH_SEGMENTS_PATH, dtype=str).dropna(how='all')\n",
    "\n",
    "\n",
    "def optionally_add_mapping_row(row):\n",
    "    mapping = pd.read_csv(DE_MAPPING_PATH).dropna(how='all')\n",
    "    \n",
    "    stretch_id = row['stretch_id']\n",
    "    stretch_name = row['stretch_name']\n",
    "    segment_number = row['segment_number']\n",
    "    \n",
    "    statuscode = f\"{stretch_id}_{segment_number}\"\n",
    "    readable = f\"{stretch_name}_{segment_number}\"\n",
    "    \n",
    "    # skip if statuscode exists segments\n",
    "    if len(mapping[mapping['statuscode'] == statuscode]) > 0:\n",
    "        return\n",
    "\n",
    "\n",
    "    mapping = pd.concat([mapping, pd.DataFrame(data={'statuscode':[statuscode],'readable':[readable]})])\n",
    "    mapping.to_csv(DE_MAPPING_PATH, index=False)\n",
    "        \n",
    "    \n",
    "    \n",
    "    \n",
    "stretch_segments.apply(optionally_add_mapping_row, axis=1)\n",
    "    \n"
   ]
  }
 ],
 "metadata": {
  "kernelspec": {
   "display_name": "venv",
   "language": "python",
   "name": "python3"
  },
  "language_info": {
   "codemirror_mode": {
    "name": "ipython",
    "version": 3
   },
   "file_extension": ".py",
   "mimetype": "text/x-python",
   "name": "python",
   "nbconvert_exporter": "python",
   "pygments_lexer": "ipython3",
   "version": "3.11.9"
  }
 },
 "nbformat": 4,
 "nbformat_minor": 5
}
