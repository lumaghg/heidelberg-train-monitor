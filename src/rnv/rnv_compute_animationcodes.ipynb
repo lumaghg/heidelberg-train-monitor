{
 "cells": [
  {
   "cell_type": "markdown",
   "id": "9510410b-9fb7-4143-942f-3e96a2c12c3a",
   "metadata": {
    "panel-layout": {
     "height": 213.5795440673828,
     "visible": true,
     "width": 100
    }
   },
   "source": [
    "# Extract active vehicles\n",
    "1. Convenience functions for date processing\n",
    "2. fetch trip_updates\n",
    "3. Process trip_updates\n",
    "4. Enrich stop_times with real-time trip_updates\n",
    "5. add realtime start and end times to trips\n",
    "6. Get trips that are currently active\n",
    "7. Get status of the active trips\n",
    "8. Transform status to LED matrix\n",
    "\n",
    "runs every minute"
   ]
  },
  {
   "cell_type": "code",
   "execution_count": 1,
   "id": "9fa747e6-f47c-4944-b64f-06362bd09f20",
   "metadata": {},
   "outputs": [],
   "source": [
    "import pandas as pd\n",
    "from os import path, getcwd\n",
    "\n",
    "gtfs_filtered_path = path.join(getcwd(), 'gtfs_filtered')\n",
    "calendar_path = path.join(gtfs_filtered_path, 'calendar.txt')\n",
    "routes_path = path.join(gtfs_filtered_path, 'routes.txt')\n",
    "trips_path = path.join(gtfs_filtered_path, 'trips.txt')\n",
    "stops_path = path.join(gtfs_filtered_path, 'stops.txt')\n",
    "stop_times_path = path.join(gtfs_filtered_path, 'stop_times.txt')\n",
    "\n",
    "calendar:pd.DataFrame = pd.read_csv(calendar_path)\n",
    "routes:pd.DataFrame = pd.read_csv(routes_path)\n",
    "trips:pd.DataFrame = pd.read_csv(trips_path)\n",
    "stops:pd.DataFrame = pd.read_csv(stops_path)\n",
    "stop_times:pd.DataFrame = pd.read_csv(stop_times_path)\n",
    "\n",
    "\n",
    "relevant_lines = ['22', '26', '5', '23', '21', '24']\n",
    "relevant_trip_prefixes = [line + \"-\" for line in relevant_lines]"
   ]
  },
  {
   "cell_type": "markdown",
   "id": "cae3757c-d10f-4865-87b1-91a54348c4c8",
   "metadata": {
    "panel-layout": {
     "height": 50.82386016845703,
     "visible": true,
     "width": 100
    }
   },
   "source": [
    "## Convenience functions for gtfs date formats"
   ]
  },
  {
   "cell_type": "code",
   "execution_count": 2,
   "id": "c173f39c-692c-41cf-96d6-7c800b3d2993",
   "metadata": {},
   "outputs": [],
   "source": [
    "import datetime\n",
    "\n",
    "def parseGtfsTimestringAsTimeObject(timestring:str):\n",
    "    # mod 24, because gtfs defines days as service days that can be longer than 24 hours, so 24:15 is a valid gtfs time\n",
    "    hour = int(timestring[0:2]) % 24\n",
    "    minute = int(timestring[3:5])\n",
    "    second = int(timestring[6:8])\n",
    "    return datetime.time(hour, minute, second)\n",
    "\n",
    "def parseGtfsDatestringAsDateObject(datestring:str):\n",
    "    datestring = str(datestring)\n",
    "    year = int(datestring[0:4])\n",
    "    month = int(datestring[4:6])\n",
    "    day = int(datestring[6:8])\n",
    "    return datetime.date(year, month, day)\n",
    "\n",
    "def addSecondsToTimeObject(time:datetime.time, seconds) -> datetime.time:\n",
    "    datetime_object = datetime.datetime(100,1,1,time.hour, time.minute, time.second)\n",
    "    delta = datetime.timedelta(seconds=seconds)\n",
    "    return (datetime_object + delta).time()\n",
    "\n",
    "\n",
    "def getGtfsWeekdayFromDate(date: datetime.date):\n",
    "    weekday_number = date.weekday()\n",
    "    if weekday_number == 0:\n",
    "        return \"monday\"\n",
    "    elif weekday_number == 1:\n",
    "        return \"tuesday\"\n",
    "    elif weekday_number == 2:\n",
    "        return \"wednesday\"\n",
    "    elif weekday_number == 3:\n",
    "        return \"thursday\"\n",
    "    elif weekday_number == 4:\n",
    "        return \"friday\"\n",
    "    elif weekday_number == 5:\n",
    "        return \"saturday\"\n",
    "    else:\n",
    "        return \"sunday\"\n"
   ]
  },
  {
   "cell_type": "markdown",
   "id": "a9cbe01b",
   "metadata": {},
   "source": [
    "## Filter trips that are running at the current time +- 10 minutes"
   ]
  },
  {
   "cell_type": "code",
   "execution_count": 3,
   "id": "5dcf954b-aae3-4f55-8949-bdc848f643ac",
   "metadata": {
    "panel-layout": {
     "height": 0,
     "visible": true,
     "width": 100
    }
   },
   "outputs": [
    {
     "name": "stdout",
     "output_type": "stream",
     "text": [
      "      route_id            trip_id  \\\n",
      "48   26-802-26  26-802-2026-62820   \n",
      "56   26-802-26  26-802-2026-62220   \n",
      "82     24-1-24       24-1-1-62220   \n",
      "125    24-2-24       24-2-1-63660   \n",
      "126    24-1-24       24-1-1-61620   \n",
      "\n",
      "                                      service_id trip_short_name start_time  \\\n",
      "48   216-217-218-219-220-223-224-225-226-227-230              26   17:27:00   \n",
      "56   216-217-218-219-220-223-224-225-226-227-230              26   17:17:00   \n",
      "82   216-217-218-219-220-223-224-225-226-227-230              24   17:17:00   \n",
      "125  216-217-218-219-220-223-224-225-226-227-230              24   17:41:00   \n",
      "126  216-217-218-219-220-223-224-225-226-227-230              24   17:07:00   \n",
      "\n",
      "     end_time  \n",
      "48   17:56:00  \n",
      "56   17:46:00  \n",
      "82   17:43:00  \n",
      "125  18:06:00  \n",
      "126  17:33:00  \n",
      "               trip_id arrival_time departure_time  stop_sequence  stop_id\n",
      "908  26-802-2026-62820     17:27:00       17:27:00              1   120701\n",
      "909  26-802-2026-62820     17:29:00       17:29:00              2   121901\n",
      "910  26-802-2026-62820     17:30:00       17:30:00              3   121601\n",
      "911  26-802-2026-62820     17:32:00       17:32:00              4   120001\n",
      "912  26-802-2026-62820     17:33:00       17:33:00              5   121801\n"
     ]
    }
   ],
   "source": [
    "current_datetime = datetime.datetime.now()\n",
    "\n",
    "# !! if stop time updates are reintroduced, the buffer might be better set to + 30 minutes in case of delays\n",
    "\n",
    "# train is potentially running if\n",
    "# 1. the current time is before the scheduled start - 10 minutes (to allow for potential depot animations)\n",
    "# 2. the current time is before the scheduled end + 10 minutes (to allow for potential depot animation etc.)\n",
    "def isPotentiallyRunningAtCurrentTime(start_gtfs_timestring, end_gtfs_timestring, current_datetime):\n",
    "    starttime = parseGtfsTimestringAsTimeObject(start_gtfs_timestring)\n",
    "    endtime = parseGtfsTimestringAsTimeObject(end_gtfs_timestring)\n",
    "\n",
    "    # make a datetime with the current date, because the selected trips are scheduled for today\n",
    "    # if we use time instead of datetime, no trips after 00:00 - delay_buffer can be shown\n",
    "    startdatetime = datetime.datetime.combine(datetime.date.today(), starttime)\n",
    "    enddatetime = datetime.datetime.combine(datetime.date.today(), endtime)\n",
    "\n",
    "    startdatetime_with_buffer = startdatetime - datetime.timedelta(minutes=10)\n",
    "    enddatetime_with_buffer = enddatetime + datetime.timedelta(minutes=10)\n",
    "\n",
    "    return startdatetime_with_buffer <= current_datetime <= enddatetime_with_buffer\n",
    "    \n",
    "\n",
    "# select only trips that are running right now\n",
    "trips = trips.loc[trips.apply(lambda row: isPotentiallyRunningAtCurrentTime(row['start_time'], row['end_time'], current_datetime), axis=1)]\n",
    "stop_times = stop_times.loc[stop_times['trip_id'].map(lambda trip_id: trip_id in trips.loc[:,'trip_id'].values)]\n",
    "\n",
    "print(trips.head(5))\n",
    "print(stop_times.head(5))\n"
   ]
  },
  {
   "cell_type": "markdown",
   "id": "eb4ea91b",
   "metadata": {},
   "source": [
    "# OPTIONAL IMPROVEMENT: INSERT APPLYING STOPTIMEUPDATES HERE"
   ]
  },
  {
   "cell_type": "markdown",
   "id": "36c8b268-7eb6-472b-803b-4a4dafae485b",
   "metadata": {
    "panel-layout": {
     "height": 50.82386016845703,
     "visible": true,
     "width": 100
    }
   },
   "source": [
    "## currently active trips"
   ]
  },
  {
   "cell_type": "markdown",
   "id": "4d90f856-529c-402f-83c1-c20d7d766ae6",
   "metadata": {
    "panel-layout": {
     "height": 85.41192626953125,
     "visible": true,
     "width": 100
    }
   },
   "source": [
    "First, we need to get all the trip_ids for currently active trips. Trips are active, if the current time is between the start and end time of the trip and if one of the services, the trip belongs to, runs on the current day.\n",
    "Let's start by looking at the start and end times of the trips."
   ]
  },
  {
   "cell_type": "code",
   "execution_count": 4,
   "id": "7cce0d78-3fad-4639-8b0d-a1001a7de55f",
   "metadata": {
    "panel-layout": {
     "height": 0,
     "visible": true,
     "width": 100
    }
   },
   "outputs": [
    {
     "name": "stdout",
     "output_type": "stream",
     "text": [
      "2025-08-10 17:32:49.032207\n",
      "found 96 trips that run at the current time\n",
      "      route_id            trip_id  \\\n",
      "48   26-802-26  26-802-2026-62820   \n",
      "56   26-802-26  26-802-2026-62220   \n",
      "82     24-1-24       24-1-1-62220   \n",
      "126    24-1-24       24-1-1-61620   \n",
      "154  26-801-26  26-801-2026-62220   \n",
      "\n",
      "                                      service_id trip_short_name start_time  \\\n",
      "48   216-217-218-219-220-223-224-225-226-227-230              26   17:27:00   \n",
      "56   216-217-218-219-220-223-224-225-226-227-230              26   17:17:00   \n",
      "82   216-217-218-219-220-223-224-225-226-227-230              24   17:17:00   \n",
      "126  216-217-218-219-220-223-224-225-226-227-230              24   17:07:00   \n",
      "154  216-217-218-219-220-223-224-225-226-227-230              26   17:17:00   \n",
      "\n",
      "     end_time  \n",
      "48   17:56:00  \n",
      "56   17:46:00  \n",
      "82   17:43:00  \n",
      "126  17:33:00  \n",
      "154  17:47:00  \n"
     ]
    }
   ],
   "source": [
    "print(datetime.datetime.now())\n",
    "\n",
    "def isTripRowActiveAtCurrentTime(trip_row):\n",
    "    start_time = parseGtfsTimestringAsTimeObject(trip_row['start_time'])\n",
    "    current_time = datetime.datetime.now().time() \n",
    "    end_time = parseGtfsTimestringAsTimeObject(trip_row['end_time'])\n",
    "    return start_time <= current_time <= end_time\n",
    "    \n",
    "\n",
    "# select trips where current time is between start and end time\n",
    "trips = trips[trips.apply(isTripRowActiveAtCurrentTime, axis=1)]\n",
    "print(\"found\", trips.shape[0], \"trips that run at the current time\")\n",
    "print(trips.head(5))"
   ]
  },
  {
   "cell_type": "markdown",
   "id": "c9c89e47-fa55-4a4d-8e60-246883b0675a",
   "metadata": {
    "panel-layout": {
     "height": 70.0852279663086,
     "visible": true,
     "width": 100
    }
   },
   "source": [
    "Secondly, we will check whether the services run on the current day by looking up the services from the `service_id` column in the calendar dataframe.\n",
    "As soon as we find a `service_id` that runs on the current day, we can stop the search and return true, otherwise we return false."
   ]
  },
  {
   "cell_type": "code",
   "execution_count": 5,
   "id": "f77fa432-6d33-4685-9b87-1ea38954802b",
   "metadata": {
    "panel-layout": {
     "height": 0,
     "visible": true,
     "width": 100
    }
   },
   "outputs": [
    {
     "name": "stdout",
     "output_type": "stream",
     "text": [
      "       route_id           trip_id  \\\n",
      "601     23-2-23      23-2-1-62460   \n",
      "1013  22-801-22    22-801-1-62520   \n",
      "1335    5-173-5     5-173-5-61800   \n",
      "1356    5-176-5  5-176-2005-62100   \n",
      "1381     5-72-5   5-72-1005-63000   \n",
      "\n",
      "                                             service_id trip_short_name  \\\n",
      "601   216-217-218-219-220-221-222-223-224-225-226-22...              23   \n",
      "1013  216-217-218-219-220-221-222-223-224-225-226-22...              22   \n",
      "1335                                            222-229               5   \n",
      "1356                                            222-229               5   \n",
      "1381                                            222-229               5   \n",
      "\n",
      "     start_time  end_time  \n",
      "601    17:21:00  17:47:00  \n",
      "1013   17:22:00  17:43:00  \n",
      "1335   17:10:00  17:34:00  \n",
      "1356   17:15:00  17:39:00  \n",
      "1381   17:30:00  18:42:50  \n"
     ]
    }
   ],
   "source": [
    "def isTripRowActiveOnCurrentDay(trip_row):\n",
    "    current_date = datetime.date.today()\n",
    "    current_weekday_gtfs = getGtfsWeekdayFromDate(datetime.date.today())\n",
    "    \n",
    "    calendar:pd.DataFrame = pd.read_csv(calendar_path)\n",
    "\n",
    "    # select row from calendar for this service\n",
    "    calendar = calendar[calendar['service_id'] == trip_row['service_id']]\n",
    "\n",
    "    # check every calendar entry\n",
    "    for index, schedule in calendar.iterrows():\n",
    "        # check if current date is between start_date and end_date (inclusive)\n",
    "        start_date = parseGtfsDatestringAsDateObject(schedule['start_date'])\n",
    "        end_date = parseGtfsDatestringAsDateObject(schedule['end_date'])\n",
    "\n",
    "        duration_check = start_date <= current_date <= end_date\n",
    "\n",
    "        # check if current weekday is an active day in the schedule\n",
    "        weekday_check = schedule[current_weekday_gtfs] == 1\n",
    "\n",
    "        if duration_check and weekday_check:\n",
    "            return True\n",
    "                \n",
    "    return False\n",
    "    \n",
    "trips = trips[trips.apply(isTripRowActiveOnCurrentDay, axis=1)]\n",
    "print(trips.head(5))"
   ]
  },
  {
   "cell_type": "markdown",
   "id": "6293f6d5-a03b-4dcd-a8ee-4715b6483938",
   "metadata": {
    "panel-layout": {
     "height": 257.5141906738281,
     "visible": true,
     "width": 100
    }
   },
   "source": [
    "## Compute animationcodes\n",
    "Now that we have identified all the trips that are currently running, we want to know where the trams are on our network. For later animation, we want to save the information, between which two station a tram is. We also want to know the primary color (RNV_route_color) as well as the secondary color used for the trail (dimmed primary color). \n",
    "\n",
    "To later distinguish between RNV and DB trains, the animationcode has the following pattern\n",
    "\n",
    "RNV:{previous_stop_id}_{next_stop_id}#{primary_color}_{secondary_color}\n",
    "\n"
   ]
  },
  {
   "cell_type": "markdown",
   "id": "a21eda75-bced-4394-9780-69c6c08125c9",
   "metadata": {
    "panel-layout": {
     "height": 51.12215805053711,
     "visible": true,
     "width": 100
    }
   },
   "source": [
    "First, let's define some functions:"
   ]
  },
  {
   "cell_type": "code",
   "execution_count": 6,
   "id": "3bc194bb-3bf8-4cac-8205-b770db66bce5",
   "metadata": {
    "panel-layout": {
     "height": 0,
     "visible": true,
     "width": 100
    }
   },
   "outputs": [
    {
     "name": "stdout",
     "output_type": "stream",
     "text": [
      "              trip_id         status  previous_stop_id  next_stop_id  \\\n",
      "0        23-2-1-62460  IN_TRANSIT_TO            127401        127621   \n",
      "1      22-801-1-62520  IN_TRANSIT_TO            115121        116021   \n",
      "2       5-173-5-61800  IN_TRANSIT_TO            574202        348202   \n",
      "3    5-176-2005-62100  IN_TRANSIT_TO            126021        114602   \n",
      "4     5-72-1005-63000  IN_TRANSIT_TO             62301         62901   \n",
      "5        5-22-5-58380  IN_TRANSIT_TO            256901        244721   \n",
      "6    5-103-2005-60300  IN_TRANSIT_TO            119321        116821   \n",
      "7     5-21-2005-60300  IN_TRANSIT_TO            243822        244722   \n",
      "8     5-21-2005-62100  IN_TRANSIT_TO            386501        236701   \n",
      "9     5-72-1005-61200  IN_TRANSIT_TO            247122        241721   \n",
      "10       5-22-5-61980  IN_TRANSIT_TO            348201        574201   \n",
      "11   5-103-2005-58500  IN_TRANSIT_TO            348402        158502   \n",
      "12       5-22-5-60180  IN_TRANSIT_TO            169302        130202   \n",
      "13    5-72-1005-59400  IN_TRANSIT_TO            383502        411302   \n",
      "14   5-103-2005-62100  IN_TRANSIT_TO            252204        252102   \n",
      "15  26-811-1026-61680  IN_TRANSIT_TO            120002        121602   \n",
      "16      21-11-5-62280  IN_TRANSIT_TO            114421        122902   \n",
      "17  26-811-1026-62880  IN_TRANSIT_TO            123321        126021   \n",
      "18  26-812-3026-62580  IN_TRANSIT_TO            427201        427403   \n",
      "19    23-1-2023-61680  IN_TRANSIT_TO            188402        187901   \n",
      "20    23-1-2023-62880  IN_TRANSIT_TO            118722        115022   \n",
      "\n",
      "                          previous_stop_name                    animationcode  \n",
      "0                 Ortenauer Straße (Steig A)  RNV:127401_127621#E48F00_442A00  \n",
      "1                     Czernybrücke (Steig A)  RNV:115121_116021#FDC300_4B3A00  \n",
      "2                  Dossenheim Nord (Steig 2)  RNV:574202_348202#00975F_002D1C  \n",
      "3                    Brückenstraße (Steig A)  RNV:126021_114602#00975F_002D1C  \n",
      "4                     Edingen West (Steig 2)    RNV:62301_62901#00975F_002D1C  \n",
      "5                   Collini-Center (Steig 2)  RNV:256901_244721#00975F_002D1C  \n",
      "6                    Stadtbücherei (Steig A)  RNV:119321_116821#00975F_002D1C  \n",
      "7                    MA Marktplatz (Steig B)  RNV:243822_244722#00975F_002D1C  \n",
      "8                 Viernheim Tivoli (Steig 2)  RNV:386501_236701#00975F_002D1C  \n",
      "9                      Universität (Steig B)  RNV:247122_241721#00975F_002D1C  \n",
      "10                 Schriesheim Süd (Steig 1)  RNV:348201_574201#00975F_002D1C  \n",
      "11                Zentgrafenstraße (Steig 2)  RNV:348402_158502#00975F_002D1C  \n",
      "12                      SRH Campus (Steig 2)  RNV:169302_130202#00975F_002D1C  \n",
      "13  Viernheim Walter-Gropius-Allee (Steig 1)  RNV:383502_411302#00975F_002D1C  \n",
      "14                      Neuostheim (Steig 1)  RNV:252204_252102#00975F_002D1C  \n",
      "15             Albert-Fritz-Straße (Steig B)  RNV:120002_121602#F39B9B_482E2E  \n",
      "16                     Betriebshof (Steig B)  RNV:114421_122902#E30613_440105  \n",
      "17                   Kußmaulstraße (Steig A)  RNV:123321_126021#F39B9B_482E2E  \n",
      "18             HD Hauptbahnhof Süd (Steig B)  RNV:427201_427403#F39B9B_482E2E  \n",
      "19                    Moltkestraße (Steig A)  RNV:188402_187901#E48F00_442A00  \n",
      "20                  Römerkreis Süd (Steig A)  RNV:118722_115022#E48F00_442A00  \n"
     ]
    }
   ],
   "source": [
    "import pandas as pd\n",
    "\n",
    "# create status Dataframe for every active trip, then merge the Dataframes\n",
    "# status, current_stop_id, previous_stop_id\n",
    "\n",
    "\n",
    "current_time = datetime.datetime.now().time()\n",
    "\n",
    "# take stop times and iterator to check previous stop\n",
    "# check if the stop_time at position i of stop_times is currently being traveled to or already reached (i.e. train is between the signal of departure stop A and departure stop B)\n",
    "def isTravelingToOrStoppingAtStoptime(stop_times, i):\n",
    "    # loc because i is the pandas index of the row \n",
    "    this_stop_time = stop_times.loc[i]\n",
    "\n",
    "    # if there is no previous stop_time, this is the initial station which cannot be traveled to \n",
    "    try:\n",
    "        # i-1 is okay here, because the df is sorted \n",
    "        previous_stop_time = stop_times.loc[i-1]\n",
    "    except KeyError:\n",
    "        return False\n",
    "    has_not_departed_this_stop_time = current_time < parseGtfsTimestringAsTimeObject(this_stop_time['departure_time'])\n",
    "    has_departed_previous_stop_time = current_time >= parseGtfsTimestringAsTimeObject(previous_stop_time['departure_time'])\n",
    "    return has_not_departed_this_stop_time and has_departed_previous_stop_time\n",
    "\n",
    "def getPreviousStopId(stop_times, current_stop_time):\n",
    "    trip_id = current_stop_time['trip_id']\n",
    "    \n",
    "    current_stop_sequence = current_stop_time['stop_sequence']\n",
    "        \n",
    "    previous_stop_sequence = current_stop_sequence - 1\n",
    "    \n",
    "    previous_stop_times = stop_times.loc[(stop_times['trip_id'] == trip_id) & (stop_times['stop_sequence'] == previous_stop_sequence)].reset_index(drop=True)\n",
    "    \n",
    "    if len(previous_stop_times) == 0:\n",
    "         # if previous stop does not exist, train is coming from depot\n",
    "        return 'DEPOT'\n",
    "\n",
    "    previous_stop_time = previous_stop_times.iloc[0]\n",
    "\n",
    "    return previous_stop_time['stop_id']\n",
    "\n",
    "\n",
    "def getStopName(stops, stop_id):\n",
    "    if stop_id == 'DEPOT':\n",
    "        return 'DEPOT'\n",
    "   # should be 1 or 0\n",
    "    applicable_stops = stops.loc[stops['stop_id'] == stop_id]\n",
    "    if len(applicable_stops) == 0:\n",
    "        # stop not found\n",
    "        return 'ERROR'\n",
    "    else:\n",
    "        applicable_stop = applicable_stops.iloc[0]\n",
    "        return f\"{applicable_stop['stop_name']} (Steig {applicable_stop['platform_code']})\"\n",
    "    \n",
    "    \n",
    "def dim_hex_color(hex_color, factor):\n",
    "    # HEX -> RGB\n",
    "    r = int(hex_color[0:2], 16)\n",
    "    g = int(hex_color[2:4], 16)\n",
    "    b = int(hex_color[4:6], 16)\n",
    "\n",
    "    # Dimmen und sicherstellen, dass der Wert im Bereich [0, 255] bleibt\n",
    "    r = int(max(0, min(255, r * factor)))\n",
    "    g = int(max(0, min(255, g * factor)))\n",
    "    b = int(max(0, min(255, b * factor)))\n",
    "\n",
    "    # RGB -> HEX\n",
    "    return \"{:02X}{:02X}{:02X}\".format(r, g, b)\n",
    "\n",
    "status_df = pd.DataFrame()\n",
    "\n",
    "for i, active_trip in trips.iterrows():\n",
    "    trip_id = active_trip['trip_id']\n",
    "\n",
    "    stop_times_for_this_trip = stop_times.loc[stop_times['trip_id'] == trip_id]\n",
    "\n",
    "    # find stops that the vehicle is currently traveling to (should be 0 or 1)\n",
    "    # vehicle is traveling to a stop if it has not arrived a stop but already departed the previous stop\n",
    "    stop_times_traveling_to = [stop_time for i ,stop_time in stop_times_for_this_trip.iterrows() if isTravelingToOrStoppingAtStoptime(stop_times_for_this_trip, i)]\n",
    "\n",
    "    #print(trip_id, len(stop_times_stopped_at), len(stop_times_traveling_to))\n",
    "\n",
    "    status = ''\n",
    "    previous_stop_id = ''\n",
    "    next_stop_id = ''\n",
    "    previous_stop_name=''\n",
    "    animationcode = ''\n",
    "\n",
    "        \n",
    "    if len(stop_times_traveling_to) > 0:\n",
    "        status = 'IN_TRANSIT_TO'\n",
    "        next_stop_time = stop_times_traveling_to[0]\n",
    "\n",
    "        previous_stop_id = getPreviousStopId(stop_times, next_stop_time)\n",
    "        next_stop_id = next_stop_time['stop_id']\n",
    "        \n",
    "        previous_stop_name = getStopName(stops, previous_stop_id)\n",
    "        next_stop_name = getStopName(stops, next_stop_id)\n",
    "        \n",
    "        \n",
    "        route_id = active_trip['route_id']\n",
    "        primary_color = routes.loc[routes['route_id'] == route_id]['route_color'].iat[0]\n",
    "        secondary_color = dim_hex_color(primary_color, 0.3)\n",
    "        \n",
    "        animationcode = f\"RNV:{previous_stop_id}_{next_stop_id}#{primary_color}_{secondary_color}\" \n",
    "    else: \n",
    "        status = 'ERROR'\n",
    "\n",
    "        \n",
    "    \n",
    "    status_df_row = pd.DataFrame({'trip_id': trip_id,'status': [status], \n",
    "                  'previous_stop_id': [previous_stop_id], \n",
    "                  'next_stop_id': [next_stop_id],\n",
    "                  'previous_stop_name': [previous_stop_name], 'animationcode':animationcode})\n",
    "\n",
    "    \n",
    "    status_df = pd.concat([status_df, status_df_row], ignore_index=True)\n",
    "\n",
    "print(status_df)"
   ]
  },
  {
   "cell_type": "code",
   "execution_count": 7,
   "id": "aa2f93ef",
   "metadata": {},
   "outputs": [],
   "source": [
    "# save to disk\n",
    "\n",
    "status_df['animationcode'].to_csv('rnv_animationcodes.csv', index=False)"
   ]
  },
  {
   "cell_type": "code",
   "execution_count": null,
   "id": "9454ae99",
   "metadata": {},
   "outputs": [],
   "source": []
  }
 ],
 "metadata": {
  "kernelspec": {
   "display_name": "venv",
   "language": "python",
   "name": "python3"
  },
  "language_info": {
   "codemirror_mode": {
    "name": "ipython",
    "version": 3
   },
   "file_extension": ".py",
   "mimetype": "text/x-python",
   "name": "python",
   "nbconvert_exporter": "python",
   "pygments_lexer": "ipython3",
   "version": "3.11.9"
  },
  "panel-cell-order": [
   "9510410b-9fb7-4143-942f-3e96a2c12c3a",
   "cae3757c-d10f-4865-87b1-91a54348c4c8",
   "f8cc7e34-dbb3-411f-8da8-fe542058cee7",
   "6e2ee90e-d30c-455c-ab72-f81eb8363349",
   "5dcf954b-aae3-4f55-8949-bdc848f643ac",
   "a8e369ab-8489-4b45-b4d2-be669b2aead7",
   "cd0b509b-a2b9-445f-bf41-9b5cef573540",
   "96c9d5bc-ecf6-4d7b-a4e5-4c2431d6d7f0",
   "8fb81dd4-22b8-44ee-be2e-fe739892a2de",
   "4910551c-6a20-4dfa-8791-517b62347547",
   "532b762d-5a30-4c25-b218-fdbda8b29b3b",
   "371cdde3-7de2-4f06-b9c2-4787b898446b",
   "36c8b268-7eb6-472b-803b-4a4dafae485b",
   "4d90f856-529c-402f-83c1-c20d7d766ae6",
   "7cce0d78-3fad-4639-8b0d-a1001a7de55f",
   "c9c89e47-fa55-4a4d-8e60-246883b0675a",
   "f77fa432-6d33-4685-9b87-1ea38954802b",
   "6293f6d5-a03b-4dcd-a8ee-4715b6483938",
   "a21eda75-bced-4394-9780-69c6c08125c9",
   "3bc194bb-3bf8-4cac-8205-b770db66bce5",
   "2dbbb75d-809f-4f9b-bb3e-c2a842cc3541",
   "c00f3f58-9bdc-44ad-bd0f-e8faec2b6818"
  ]
 },
 "nbformat": 4,
 "nbformat_minor": 5
}
