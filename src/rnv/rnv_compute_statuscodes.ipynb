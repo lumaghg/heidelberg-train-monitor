{
 "cells": [
  {
   "cell_type": "markdown",
   "id": "9510410b-9fb7-4143-942f-3e96a2c12c3a",
   "metadata": {
    "panel-layout": {
     "height": 213.5795440673828,
     "visible": true,
     "width": 100
    }
   },
   "source": [
    "# Extract active vehicles\n",
    "1. Convenience functions for date processing\n",
    "2. fetch trip_updates\n",
    "3. Process trip_updates\n",
    "4. Enrich stop_times with real-time trip_updates\n",
    "5. add realtime start and end times to trips\n",
    "6. Get trips that are currently active\n",
    "7. Get status of the active trips\n",
    "8. Transform status to LED matrix\n",
    "\n",
    "runs every minute"
   ]
  },
  {
   "cell_type": "code",
   "execution_count": 15,
   "id": "9fa747e6-f47c-4944-b64f-06362bd09f20",
   "metadata": {},
   "outputs": [],
   "source": [
    "import pandas as pd\n",
    "from os import path, getcwd\n",
    "\n",
    "gtfs_filtered_path = path.join(getcwd(), 'gtfs_filtered')\n",
    "calendar_path = path.join(gtfs_filtered_path, 'calendar.txt')\n",
    "routes_path = path.join(gtfs_filtered_path, 'routes.txt')\n",
    "trips_path = path.join(gtfs_filtered_path, 'trips.txt')\n",
    "stops_path = path.join(gtfs_filtered_path, 'stops.txt')\n",
    "stop_times_path = path.join(gtfs_filtered_path, 'stop_times.txt')\n",
    "\n",
    "calendar:pd.DataFrame = pd.read_csv(calendar_path)\n",
    "routes:pd.DataFrame = pd.read_csv(routes_path)\n",
    "trips:pd.DataFrame = pd.read_csv(trips_path)\n",
    "stops:pd.DataFrame = pd.read_csv(stops_path)\n",
    "stop_times:pd.DataFrame = pd.read_csv(stop_times_path)\n",
    "\n",
    "\n",
    "relevant_lines = ['22', '26', '5', '23', '21', '24']\n",
    "relevant_trip_prefixes = [line + \"-\" for line in relevant_lines]"
   ]
  },
  {
   "cell_type": "markdown",
   "id": "cae3757c-d10f-4865-87b1-91a54348c4c8",
   "metadata": {
    "panel-layout": {
     "height": 50.82386016845703,
     "visible": true,
     "width": 100
    }
   },
   "source": [
    "## Convenience functions for gtfs date formats"
   ]
  },
  {
   "cell_type": "code",
   "execution_count": 16,
   "id": "c173f39c-692c-41cf-96d6-7c800b3d2993",
   "metadata": {},
   "outputs": [],
   "source": [
    "import datetime\n",
    "\n",
    "def parseGtfsTimestringAsTimeObject(timestring:str):\n",
    "    # mod 24, because gtfs defines days as service days that can be longer than 24 hours, so 24:15 is a valid gtfs time\n",
    "    hour = int(timestring[0:2]) % 24\n",
    "    minute = int(timestring[3:5])\n",
    "    second = int(timestring[6:8])\n",
    "    return datetime.time(hour, minute, second)\n",
    "\n",
    "def parseGtfsDatestringAsDateObject(datestring:str):\n",
    "    datestring = str(datestring)\n",
    "    year = int(datestring[0:4])\n",
    "    month = int(datestring[4:6])\n",
    "    day = int(datestring[6:8])\n",
    "    return datetime.date(year, month, day)\n",
    "\n",
    "def addSecondsToTimeObject(time:datetime.time, seconds) -> datetime.time:\n",
    "    datetime_object = datetime.datetime(100,1,1,time.hour, time.minute, time.second)\n",
    "    delta = datetime.timedelta(seconds=seconds)\n",
    "    return (datetime_object + delta).time()\n",
    "\n",
    "\n",
    "def getGtfsWeekdayFromDate(date: datetime.date):\n",
    "    weekday_number = date.weekday()\n",
    "    if weekday_number == 0:\n",
    "        return \"monday\"\n",
    "    elif weekday_number == 1:\n",
    "        return \"tuesday\"\n",
    "    elif weekday_number == 2:\n",
    "        return \"wednesday\"\n",
    "    elif weekday_number == 3:\n",
    "        return \"thursday\"\n",
    "    elif weekday_number == 4:\n",
    "        return \"friday\"\n",
    "    elif weekday_number == 5:\n",
    "        return \"saturday\"\n",
    "    else:\n",
    "        return \"sunday\"\n"
   ]
  },
  {
   "cell_type": "markdown",
   "id": "a9cbe01b",
   "metadata": {},
   "source": [
    "## Filter trips that are running at the current time +- 10 minutes"
   ]
  },
  {
   "cell_type": "code",
   "execution_count": 17,
   "id": "5dcf954b-aae3-4f55-8949-bdc848f643ac",
   "metadata": {
    "panel-layout": {
     "height": 0,
     "visible": true,
     "width": 100
    }
   },
   "outputs": [
    {
     "name": "stdout",
     "output_type": "stream",
     "text": [
      "     route_id            trip_id                                   service_id  \\\n",
      "14    24-2-24       24-2-1-51060  216-217-218-219-220-223-224-225-226-227-230   \n",
      "28    24-2-24       24-2-1-49860  216-217-218-219-220-223-224-225-226-227-230   \n",
      "61  26-801-26  26-801-2026-52020  216-217-218-219-220-223-224-225-226-227-230   \n",
      "62    24-2-24       24-2-1-50460  216-217-218-219-220-223-224-225-226-227-230   \n",
      "88  26-801-26  26-801-2026-50220  216-217-218-219-220-223-224-225-226-227-230   \n",
      "\n",
      "   trip_short_name start_time  end_time  \n",
      "14              24   14:11:00  14:36:00  \n",
      "28              24   13:51:00  14:16:00  \n",
      "61              26   14:27:00  14:57:00  \n",
      "62              24   14:01:00  14:26:00  \n",
      "88              26   13:57:00  14:27:00  \n",
      "          trip_id arrival_time departure_time  stop_sequence  stop_id\n",
      "280  24-2-1-51060     14:11:00       14:11:00              1   127801\n",
      "281  24-2-1-51060     14:13:00       14:13:00              2   126701\n",
      "282  24-2-1-51060     14:14:00       14:14:00              3   127401\n",
      "283  24-2-1-51060     14:16:00       14:16:00              4   127621\n",
      "284  24-2-1-51060     14:17:00       14:17:00              5   126321\n"
     ]
    }
   ],
   "source": [
    "current_datetime = datetime.datetime.now()\n",
    "\n",
    "# !! if stop time updates are reintroduced, the buffer might be better set to + 30 minutes in case of delays\n",
    "\n",
    "# train is potentially running if\n",
    "# 1. the current time is before the scheduled start - 10 minutes (to allow for potential depot animations)\n",
    "# 2. the current time is before the scheduled end + 10 minutes (to allow for potential depot animation etc.)\n",
    "def isPotentiallyRunningAtCurrentTime(start_gtfs_timestring, end_gtfs_timestring, current_datetime):\n",
    "    starttime = parseGtfsTimestringAsTimeObject(start_gtfs_timestring)\n",
    "    endtime = parseGtfsTimestringAsTimeObject(end_gtfs_timestring)\n",
    "\n",
    "    # make a datetime with the current date, because the selected trips are scheduled for today\n",
    "    # if we use time instead of datetime, no trips after 00:00 - delay_buffer can be shown\n",
    "    startdatetime = datetime.datetime.combine(datetime.date.today(), starttime)\n",
    "    enddatetime = datetime.datetime.combine(datetime.date.today(), endtime)\n",
    "\n",
    "    startdatetime_with_buffer = startdatetime - datetime.timedelta(minutes=10)\n",
    "    enddatetime_with_buffer = enddatetime + datetime.timedelta(minutes=10)\n",
    "\n",
    "    return startdatetime_with_buffer <= current_datetime <= enddatetime_with_buffer\n",
    "    \n",
    "\n",
    "# select only trips that are running right now\n",
    "trips = trips.loc[trips.apply(lambda row: isPotentiallyRunningAtCurrentTime(row['start_time'], row['end_time'], current_datetime), axis=1)]\n",
    "stop_times = stop_times.loc[stop_times['trip_id'].map(lambda trip_id: trip_id in trips.loc[:,'trip_id'].values)]\n",
    "\n",
    "print(trips.head(5))\n",
    "print(stop_times.head(5))\n"
   ]
  },
  {
   "cell_type": "markdown",
   "id": "eb4ea91b",
   "metadata": {},
   "source": [
    "# OPTIONAL IMPROVEMENT: INSERT APPLYING STOPTIMEUPDATES HERE"
   ]
  },
  {
   "cell_type": "markdown",
   "id": "36c8b268-7eb6-472b-803b-4a4dafae485b",
   "metadata": {
    "panel-layout": {
     "height": 50.82386016845703,
     "visible": true,
     "width": 100
    }
   },
   "source": [
    "## currently active trips"
   ]
  },
  {
   "cell_type": "markdown",
   "id": "4d90f856-529c-402f-83c1-c20d7d766ae6",
   "metadata": {
    "panel-layout": {
     "height": 85.41192626953125,
     "visible": true,
     "width": 100
    }
   },
   "source": [
    "First, we need to get all the trip_ids for currently active trips. Trips are active, if the current time is between the start and end time of the trip and if one of the services, the trip belongs to, runs on the current day.\n",
    "Let's start by looking at the start and end times of the trips."
   ]
  },
  {
   "cell_type": "code",
   "execution_count": 18,
   "id": "7cce0d78-3fad-4639-8b0d-a1001a7de55f",
   "metadata": {
    "panel-layout": {
     "height": 0,
     "visible": true,
     "width": 100
    }
   },
   "outputs": [
    {
     "name": "stdout",
     "output_type": "stream",
     "text": [
      "2025-08-09 14:21:49.582589\n",
      "found 83 trips that run at the current time\n",
      "      route_id            trip_id  \\\n",
      "14     24-2-24       24-2-1-51060   \n",
      "62     24-2-24       24-2-1-50460   \n",
      "88   26-801-26  26-801-2026-50220   \n",
      "95   26-801-26  26-801-2026-51420   \n",
      "160    24-1-24       24-1-1-50820   \n",
      "\n",
      "                                      service_id trip_short_name start_time  \\\n",
      "14   216-217-218-219-220-223-224-225-226-227-230              24   14:11:00   \n",
      "62   216-217-218-219-220-223-224-225-226-227-230              24   14:01:00   \n",
      "88   216-217-218-219-220-223-224-225-226-227-230              26   13:57:00   \n",
      "95   216-217-218-219-220-223-224-225-226-227-230              26   14:17:00   \n",
      "160  216-217-218-219-220-223-224-225-226-227-230              24   14:07:00   \n",
      "\n",
      "     end_time  \n",
      "14   14:36:00  \n",
      "62   14:26:00  \n",
      "88   14:27:00  \n",
      "95   14:47:00  \n",
      "160  14:33:00  \n"
     ]
    }
   ],
   "source": [
    "print(datetime.datetime.now())\n",
    "\n",
    "def isTripRowActiveAtCurrentTime(trip_row):\n",
    "    start_time = parseGtfsTimestringAsTimeObject(trip_row['start_time'])\n",
    "    current_time = datetime.datetime.now().time() \n",
    "    end_time = parseGtfsTimestringAsTimeObject(trip_row['end_time'])\n",
    "    return start_time <= current_time <= end_time\n",
    "    \n",
    "\n",
    "# select trips where current time is between start and end time\n",
    "trips = trips[trips.apply(isTripRowActiveAtCurrentTime, axis=1)]\n",
    "print(\"found\", trips.shape[0], \"trips that run at the current time\")\n",
    "print(trips.head(5))"
   ]
  },
  {
   "cell_type": "markdown",
   "id": "c9c89e47-fa55-4a4d-8e60-246883b0675a",
   "metadata": {
    "panel-layout": {
     "height": 70.0852279663086,
     "visible": true,
     "width": 100
    }
   },
   "source": [
    "Secondly, we will check whether the services run on the current day by looking up the services from the `service_id` column in the calendar dataframe.\n",
    "As soon as we find a `service_id` that runs on the current day, we can stop the search and return true, otherwise we return false."
   ]
  },
  {
   "cell_type": "code",
   "execution_count": 19,
   "id": "f77fa432-6d33-4685-9b87-1ea38954802b",
   "metadata": {
    "panel-layout": {
     "height": 0,
     "visible": true,
     "width": 100
    }
   },
   "outputs": [
    {
     "name": "stdout",
     "output_type": "stream",
     "text": [
      "    route_id          trip_id  \\\n",
      "282  23-2-23     23-2-1-51660   \n",
      "301  23-1-23  23-1-3023-50700   \n",
      "630  23-2-23     23-2-1-51060   \n",
      "747  23-2-23     23-2-1-50460   \n",
      "765  23-1-23  23-1-3023-50100   \n",
      "\n",
      "                                            service_id trip_short_name  \\\n",
      "282  216-217-218-219-220-221-222-223-224-225-226-22...              23   \n",
      "301  216-217-218-219-220-221-223-224-225-226-227-22...              23   \n",
      "630  216-217-218-219-220-221-223-224-225-226-227-22...              23   \n",
      "747  216-217-218-219-220-221-222-223-224-225-226-22...              23   \n",
      "765  216-217-218-219-220-221-223-224-225-226-227-22...              23   \n",
      "\n",
      "    start_time  end_time  \n",
      "282   14:21:00  14:47:00  \n",
      "301   14:05:00  14:34:00  \n",
      "630   14:11:00  14:37:00  \n",
      "747   14:01:00  14:27:00  \n",
      "765   13:55:00  14:24:00  \n"
     ]
    }
   ],
   "source": [
    "def isTripRowActiveOnCurrentDay(trip_row):\n",
    "    current_date = datetime.date.today()\n",
    "    current_weekday_gtfs = getGtfsWeekdayFromDate(datetime.date.today())\n",
    "    \n",
    "    calendar:pd.DataFrame = pd.read_csv(calendar_path)\n",
    "\n",
    "    # select row from calendar for this service\n",
    "    calendar = calendar[calendar['service_id'] == trip_row['service_id']]\n",
    "\n",
    "    # check every calendar entry\n",
    "    for index, schedule in calendar.iterrows():\n",
    "        # check if current date is between start_date and end_date (inclusive)\n",
    "        start_date = parseGtfsDatestringAsDateObject(schedule['start_date'])\n",
    "        end_date = parseGtfsDatestringAsDateObject(schedule['end_date'])\n",
    "\n",
    "        duration_check = start_date <= current_date <= end_date\n",
    "\n",
    "        # check if current weekday is an active day in the schedule\n",
    "        weekday_check = schedule[current_weekday_gtfs] == 1\n",
    "\n",
    "        if duration_check and weekday_check:\n",
    "            return True\n",
    "                \n",
    "    return False\n",
    "    \n",
    "trips = trips[trips.apply(isTripRowActiveOnCurrentDay, axis=1)]\n",
    "print(trips.head(5))"
   ]
  },
  {
   "cell_type": "markdown",
   "id": "6293f6d5-a03b-4dcd-a8ee-4715b6483938",
   "metadata": {
    "panel-layout": {
     "height": 257.5141906738281,
     "visible": true,
     "width": 100
    }
   },
   "source": [
    "## Compute statuscodes\n",
    "Now that we have identified all the trips that are currently running, we want to know where the trams are on our network. For later animation, we want to save the information, between which two station a tram is. We also want to know the primary color (RNV_route_color) as well as the secondary color used for the trail (dimmed primary color). \n",
    "\n",
    "To later distinguish between RNV and DB trains, the statuscode has the following pattern\n",
    "\n",
    "RNV:{previous_stop_id}_{next_stop_id}#{primary_color}_{secondary_color}\n",
    "\n"
   ]
  },
  {
   "cell_type": "markdown",
   "id": "a21eda75-bced-4394-9780-69c6c08125c9",
   "metadata": {
    "panel-layout": {
     "height": 51.12215805053711,
     "visible": true,
     "width": 100
    }
   },
   "source": [
    "First, let's define some functions:"
   ]
  },
  {
   "cell_type": "code",
   "execution_count": 20,
   "id": "3bc194bb-3bf8-4cac-8205-b770db66bce5",
   "metadata": {
    "panel-layout": {
     "height": 0,
     "visible": true,
     "width": 100
    }
   },
   "outputs": [
    {
     "name": "stdout",
     "output_type": "stream",
     "text": [
      "              trip_id         status  previous_stop_id  next_stop_id  \\\n",
      "0        23-2-1-51660  IN_TRANSIT_TO            187901        188401   \n",
      "1     23-1-3023-50700  IN_TRANSIT_TO            127622        127402   \n",
      "2        23-2-1-51060  IN_TRANSIT_TO            126701        127401   \n",
      "3        23-2-1-50460  IN_TRANSIT_TO            145721        115021   \n",
      "4     23-1-3023-50100  IN_TRANSIT_TO            188602        188902   \n",
      "5     23-1-3023-51300  IN_TRANSIT_TO            118722        115022   \n",
      "6      22-801-1-50520  IN_TRANSIT_TO            119321        116821   \n",
      "7     22-802-11-50820  IN_TRANSIT_TO            125202        125602   \n",
      "8     22-802-11-51420  IN_TRANSIT_TO            119402        116004   \n",
      "9      22-801-1-51120  IN_TRANSIT_TO            427401        115121   \n",
      "10       5-2-51-45660  IN_TRANSIT_TO            245902        244404   \n",
      "11       5-1-51-45300  IN_TRANSIT_TO            113522        113602   \n",
      "12       5-2-51-48060  IN_TRANSIT_TO            130402         61901   \n",
      "13       5-2-51-49260  IN_TRANSIT_TO            114602        116822   \n",
      "14       5-1-51-46500  IN_TRANSIT_TO            169301        118001   \n",
      "15       5-2-51-46860  IN_TRANSIT_TO            240601        243301   \n",
      "16      5-47-51-48600  IN_TRANSIT_TO             62302         61902   \n",
      "17       5-1-51-44100  IN_TRANSIT_TO            348402        158502   \n",
      "18       5-2-51-44460  IN_TRANSIT_TO            236702        386502   \n",
      "19       5-1-51-50100  IN_TRANSIT_TO            554501        237601   \n",
      "20      5-47-51-46200  IN_TRANSIT_TO            574202        348202   \n",
      "21      5-47-51-47400  IN_TRANSIT_TO            116821        114601   \n",
      "22       5-1-51-47700  IN_TRANSIT_TO            258702        259422   \n",
      "23       5-2-51-51660  IN_TRANSIT_TO            414602        413201   \n",
      "24       5-1-51-51300  IN_TRANSIT_TO            413601        410501   \n",
      "25       5-2-51-50460  IN_TRANSIT_TO            348201        574201   \n",
      "26       5-1-51-48900  IN_TRANSIT_TO            246201        245121   \n",
      "27  26-812-2026-51540  IN_TRANSIT_TO            121901        121601   \n",
      "28     21-12-53-50820  IN_TRANSIT_TO            119421        119321   \n",
      "29     21-31-51-51480  IN_TRANSIT_TO            119322        119402   \n",
      "30     21-12-53-51420  IN_TRANSIT_TO            133301        122601   \n",
      "31     21-31-51-50880  IN_TRANSIT_TO            122622        133302   \n",
      "32  26-801-2026-49980  IN_TRANSIT_TO            121902        120701   \n",
      "33  26-801-2026-51180  IN_TRANSIT_TO            126021        114602   \n",
      "34     5-146-51-51000  IN_TRANSIT_TO            113301        113601   \n",
      "35      5-47-51-51000  IN_TRANSIT_TO            244401        245901   \n",
      "36     5-146-51-49800  IN_TRANSIT_TO            118002        169302   \n",
      "37      5-47-51-49800  IN_TRANSIT_TO            243302        240602   \n",
      "38     5-146-51-48600  IN_TRANSIT_TO            259421        258701   \n",
      "39  26-812-2026-50940  IN_TRANSIT_TO            427401        115121   \n",
      "40  26-801-2026-50580  IN_TRANSIT_TO            427404        427202   \n",
      "41  26-812-2026-50340  IN_TRANSIT_TO            114601        126022   \n",
      "\n",
      "                        previous_stop_name                       statuscode  \n",
      "0                Leimen Friedhof (Steig B)  RNV:187901_188401#E48F00_442A00  \n",
      "1                 Rohrbach Markt (Steig B)  RNV:127622_127402#E48F00_442A00  \n",
      "2           HD Freiburger Straße (Steig A)  RNV:126701_127401#E48F00_442A00  \n",
      "3   S-Bahnhof Weststadt/Südstadt (Steig B)  RNV:145721_115021#E48F00_442A00  \n",
      "4              Georgi-Marktplatz (Steig A)  RNV:188602_188902#E48F00_442A00  \n",
      "5                 Römerkreis Süd (Steig A)  RNV:118722_115022#E48F00_442A00  \n",
      "6                  Stadtbücherei (Steig A)  RNV:119321_116821#FDC300_4B3A00  \n",
      "7          Henkel-Teroson-Straße (Steig A)  RNV:125202_125602#FDC300_4B3A00  \n",
      "8                     Stadtwerke (Steig B)  RNV:119402_116004#FDC300_4B3A00  \n",
      "9                   Gadamerplatz (Steig C)  RNV:427401_115121#FDC300_4B3A00  \n",
      "10                   Rosengarten (Steig B)  RNV:245902_244404#00975F_002D1C  \n",
      "11                   Kapellenweg (Steig B)  RNV:113522_113602#00975F_002D1C  \n",
      "12         Wieblingen Taubenfeld (Steig 2)   RNV:130402_61901#00975F_002D1C  \n",
      "13                 Bismarckplatz (Steig B)  RNV:114602_116822#00975F_002D1C  \n",
      "14                    SRH Campus (Steig 1)  RNV:169301_118001#00975F_002D1C  \n",
      "15                 Fernmeldeturm (Steig 2)  RNV:240601_243301#00975F_002D1C  \n",
      "16                  Edingen West (Steig 1)    RNV:62302_61902#00975F_002D1C  \n",
      "17              Zentgrafenstraße (Steig 2)  RNV:348402_158502#00975F_002D1C  \n",
      "18        Platz der Freundschaft (Steig 1)  RNV:236702_386502#00975F_002D1C  \n",
      "19             Mannheimer Straße (Steig A)  RNV:554501_237601#00975F_002D1C  \n",
      "20               Dossenheim Nord (Steig 2)  RNV:574202_348202#00975F_002D1C  \n",
      "21                     Seegarten (Steig A)  RNV:116821_114601#00975F_002D1C  \n",
      "22                 Deutscher Hof (Steig 1)  RNV:258702_259422#00975F_002D1C  \n",
      "23    Weinheim Alter OEG-Bahnhof (Steig 1)  RNV:414602_413201#00975F_002D1C  \n",
      "24                      Stahlbad (Steig 2)  RNV:413601_410501#00975F_002D1C  \n",
      "25               Schriesheim Süd (Steig 1)  RNV:348201_574201#00975F_002D1C  \n",
      "26                    MA Schloss (Steig A)  RNV:246201_245121#00975F_002D1C  \n",
      "27             Kirchheim Rathaus (Steig A)  RNV:121901_121601#F39B9B_482E2E  \n",
      "28                    Stadtwerke (Steig A)  RNV:119421_119321#E30613_440105  \n",
      "29                 Stadtbücherei (Steig B)  RNV:119322_119402#E30613_440105  \n",
      "30            Heiligenbergschule (Steig A)  RNV:133301_122601#E30613_440105  \n",
      "31               Technologiepark (Steig B)  RNV:122622_133302#E30613_440105  \n",
      "32             Kirchheim Rathaus (Steig B)  RNV:121902_120701#F39B9B_482E2E  \n",
      "33                 Brückenstraße (Steig A)  RNV:126021_114602#F39B9B_482E2E  \n",
      "34                    Burgstraße (Steig A)  RNV:113301_113601#00975F_002D1C  \n",
      "35               Nationaltheater (Steig B)  RNV:244401_245901#00975F_002D1C  \n",
      "36                    Ochsenkopf (Steig 2)  RNV:118002_169302#00975F_002D1C  \n",
      "37                 Lessingstraße (Steig 1)  RNV:243302_240602#00975F_002D1C  \n",
      "38            Seckenheim Rathaus (Steig A)  RNV:259421_258701#00975F_002D1C  \n",
      "39                  Gadamerplatz (Steig C)  RNV:427401_115121#F39B9B_482E2E  \n",
      "40                  Gadamerplatz (Steig A)  RNV:427404_427202#F39B9B_482E2E  \n",
      "41                 Bismarckplatz (Steig A)  RNV:114601_126022#F39B9B_482E2E  \n"
     ]
    }
   ],
   "source": [
    "import pandas as pd\n",
    "\n",
    "# create status Dataframe for every active trip, then merge the Dataframes\n",
    "# status, current_stop_id, previous_stop_id\n",
    "\n",
    "\n",
    "current_time = datetime.datetime.now().time()\n",
    "\n",
    "# take stop times and iterator to check previous stop\n",
    "# check if the stop_time at position i of stop_times is currently being traveled to or already reached (i.e. train is between the signal of departure stop A and departure stop B)\n",
    "def isTravelingToOrStoppingAtStoptime(stop_times, i):\n",
    "    # loc because i is the pandas index of the row \n",
    "    this_stop_time = stop_times.loc[i]\n",
    "\n",
    "    # if there is no previous stop_time, this is the initial station which cannot be traveled to \n",
    "    try:\n",
    "        # i-1 is okay here, because the df is sorted \n",
    "        previous_stop_time = stop_times.loc[i-1]\n",
    "    except KeyError:\n",
    "        return False\n",
    "    has_not_departed_this_stop_time = current_time < parseGtfsTimestringAsTimeObject(this_stop_time['departure_time'])\n",
    "    has_departed_previous_stop_time = current_time >= parseGtfsTimestringAsTimeObject(previous_stop_time['departure_time'])\n",
    "    return has_not_departed_this_stop_time and has_departed_previous_stop_time\n",
    "\n",
    "def getPreviousStopId(stop_times, current_stop_time):\n",
    "    trip_id = current_stop_time['trip_id']\n",
    "    \n",
    "    current_stop_sequence = current_stop_time['stop_sequence']\n",
    "        \n",
    "    previous_stop_sequence = current_stop_sequence - 1\n",
    "    \n",
    "    previous_stop_times = stop_times.loc[(stop_times['trip_id'] == trip_id) & (stop_times['stop_sequence'] == previous_stop_sequence)].reset_index(drop=True)\n",
    "    \n",
    "    if len(previous_stop_times) == 0:\n",
    "         # if previous stop does not exist, train is coming from depot\n",
    "        return 'DEPOT'\n",
    "\n",
    "    previous_stop_time = previous_stop_times.iloc[0]\n",
    "\n",
    "    return previous_stop_time['stop_id']\n",
    "\n",
    "\n",
    "def getStopName(stops, stop_id):\n",
    "    if stop_id == 'DEPOT':\n",
    "        return 'DEPOT'\n",
    "   # should be 1 or 0\n",
    "    applicable_stops = stops.loc[stops['stop_id'] == stop_id]\n",
    "    if len(applicable_stops) == 0:\n",
    "        # stop not found\n",
    "        return 'ERROR'\n",
    "    else:\n",
    "        applicable_stop = applicable_stops.iloc[0]\n",
    "        return f\"{applicable_stop['stop_name']} (Steig {applicable_stop['platform_code']})\"\n",
    "    \n",
    "    \n",
    "def dim_hex_color(hex_color, factor):\n",
    "    # HEX -> RGB\n",
    "    r = int(hex_color[0:2], 16)\n",
    "    g = int(hex_color[2:4], 16)\n",
    "    b = int(hex_color[4:6], 16)\n",
    "\n",
    "    # Dimmen und sicherstellen, dass der Wert im Bereich [0, 255] bleibt\n",
    "    r = int(max(0, min(255, r * factor)))\n",
    "    g = int(max(0, min(255, g * factor)))\n",
    "    b = int(max(0, min(255, b * factor)))\n",
    "\n",
    "    # RGB -> HEX\n",
    "    return \"{:02X}{:02X}{:02X}\".format(r, g, b)\n",
    "\n",
    "status_df = pd.DataFrame()\n",
    "\n",
    "for i, active_trip in trips.iterrows():\n",
    "    trip_id = active_trip['trip_id']\n",
    "\n",
    "    stop_times_for_this_trip = stop_times.loc[stop_times['trip_id'] == trip_id]\n",
    "\n",
    "    # find stops that the vehicle is currently traveling to (should be 0 or 1)\n",
    "    # vehicle is traveling to a stop if it has not arrived a stop but already departed the previous stop\n",
    "    stop_times_traveling_to = [stop_time for i ,stop_time in stop_times_for_this_trip.iterrows() if isTravelingToOrStoppingAtStoptime(stop_times_for_this_trip, i)]\n",
    "\n",
    "    #print(trip_id, len(stop_times_stopped_at), len(stop_times_traveling_to))\n",
    "\n",
    "    status = ''\n",
    "    previous_stop_id = ''\n",
    "    next_stop_id = ''\n",
    "    previous_stop_name=''\n",
    "    statuscode = ''\n",
    "\n",
    "        \n",
    "    if len(stop_times_traveling_to) > 0:\n",
    "        status = 'IN_TRANSIT_TO'\n",
    "        next_stop_time = stop_times_traveling_to[0]\n",
    "\n",
    "        previous_stop_id = getPreviousStopId(stop_times, next_stop_time)\n",
    "        next_stop_id = next_stop_time['stop_id']\n",
    "        \n",
    "        previous_stop_name = getStopName(stops, previous_stop_id)\n",
    "        next_stop_name = getStopName(stops, next_stop_id)\n",
    "        \n",
    "        \n",
    "        route_id = active_trip['route_id']\n",
    "        primary_color = routes.loc[routes['route_id'] == route_id]['route_color'].iat[0]\n",
    "        secondary_color = dim_hex_color(primary_color, 0.3)\n",
    "        \n",
    "        statuscode = f\"RNV:{previous_stop_id}_{next_stop_id}#{primary_color}_{secondary_color}\" \n",
    "    else: \n",
    "        status = 'ERROR'\n",
    "\n",
    "        \n",
    "    \n",
    "    status_df_row = pd.DataFrame({'trip_id': trip_id,'status': [status], \n",
    "                  'previous_stop_id': [previous_stop_id], \n",
    "                  'next_stop_id': [next_stop_id],\n",
    "                  'previous_stop_name': [previous_stop_name], 'statuscode':statuscode})\n",
    "\n",
    "    \n",
    "    status_df = pd.concat([status_df, status_df_row], ignore_index=True)\n",
    "\n",
    "print(status_df)"
   ]
  },
  {
   "cell_type": "code",
   "execution_count": 21,
   "id": "aa2f93ef",
   "metadata": {},
   "outputs": [],
   "source": [
    "# save to disk\n",
    "\n",
    "status_df['statuscode'].to_csv('rnv_statuscodes.csv', index=False)"
   ]
  },
  {
   "cell_type": "code",
   "execution_count": null,
   "id": "9454ae99",
   "metadata": {},
   "outputs": [],
   "source": []
  }
 ],
 "metadata": {
  "kernelspec": {
   "display_name": "venv",
   "language": "python",
   "name": "python3"
  },
  "language_info": {
   "codemirror_mode": {
    "name": "ipython",
    "version": 3
   },
   "file_extension": ".py",
   "mimetype": "text/x-python",
   "name": "python",
   "nbconvert_exporter": "python",
   "pygments_lexer": "ipython3",
   "version": "3.11.9"
  },
  "panel-cell-order": [
   "9510410b-9fb7-4143-942f-3e96a2c12c3a",
   "cae3757c-d10f-4865-87b1-91a54348c4c8",
   "f8cc7e34-dbb3-411f-8da8-fe542058cee7",
   "6e2ee90e-d30c-455c-ab72-f81eb8363349",
   "5dcf954b-aae3-4f55-8949-bdc848f643ac",
   "a8e369ab-8489-4b45-b4d2-be669b2aead7",
   "cd0b509b-a2b9-445f-bf41-9b5cef573540",
   "96c9d5bc-ecf6-4d7b-a4e5-4c2431d6d7f0",
   "8fb81dd4-22b8-44ee-be2e-fe739892a2de",
   "4910551c-6a20-4dfa-8791-517b62347547",
   "532b762d-5a30-4c25-b218-fdbda8b29b3b",
   "371cdde3-7de2-4f06-b9c2-4787b898446b",
   "36c8b268-7eb6-472b-803b-4a4dafae485b",
   "4d90f856-529c-402f-83c1-c20d7d766ae6",
   "7cce0d78-3fad-4639-8b0d-a1001a7de55f",
   "c9c89e47-fa55-4a4d-8e60-246883b0675a",
   "f77fa432-6d33-4685-9b87-1ea38954802b",
   "6293f6d5-a03b-4dcd-a8ee-4715b6483938",
   "a21eda75-bced-4394-9780-69c6c08125c9",
   "3bc194bb-3bf8-4cac-8205-b770db66bce5",
   "2dbbb75d-809f-4f9b-bb3e-c2a842cc3541",
   "c00f3f58-9bdc-44ad-bd0f-e8faec2b6818"
  ]
 },
 "nbformat": 4,
 "nbformat_minor": 5
}
