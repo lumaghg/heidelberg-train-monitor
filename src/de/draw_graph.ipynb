{
 "cells": [
  {
   "cell_type": "code",
   "execution_count": null,
   "id": "334b5711",
   "metadata": {},
   "outputs": [],
   "source": [
    "# load graph representation of network\n",
    "# station -> nodes\n",
    "# stretches -> edges\n",
    "\n",
    "import networkx as nx\n",
    "\n",
    "stretches = pd.read_csv(STRETCHES_PATH, dtype=str).dropna(how='all')\n",
    "stations = pd.read_csv(STATIONS_PATH, dtype=str).dropna(how='all')\n",
    "\n",
    "G = nx.Graph()\n",
    "\n",
    "# add nodes\n",
    "station_list = list(stations.itertuples(index=False, name=None)) # [(station_name, station_uic)]\n",
    "nodes = [(station[1], {'station_name': station[0]}) for station in station_list]\n",
    "G.add_nodes_from(nodes)\n",
    "\n",
    "# add edges\n",
    "# attraction force is used to draw the graph by defining the attraction force between the two nodes and is the inverted travel time\n",
    "edge_list = list(stretches[['station_uic_from', 'station_uic_to', 'station_name_from','station_name_to','travel_cost','super_name']].itertuples(index=False, name=None)) # [(station_name_from, station_uic_from, station_name_to, station_uic_from, travel_cost, super_name)]\n",
    "edges = [(edge[0], edge[1], {'station_name_from': edge[2], 'station_name_to': edge[3], 'travel_cost': int(edge[4]), 'super_name': edge[5], 'attraction_force': 1 / int(edge[4])}) for edge in edge_list]\n",
    "G.add_edges_from(edges)\n"
   ]
  },
  {
   "cell_type": "code",
   "execution_count": null,
   "id": "deb449f1",
   "metadata": {},
   "outputs": [],
   "source": [
    "\n",
    "if True:\n",
    "    import matplotlib.pyplot as plt\n",
    "\n",
    "    pos = nx.spring_layout(G, seed=7, weight='attraction_force')  # positions for all nodes - seed for reproducibility\n",
    "\n",
    "    # nodes\n",
    "    nx.draw_networkx_nodes(G, pos, node_size=50)\n",
    "\n",
    "    # edges\n",
    "    nx.draw_networkx_edges(G, pos, edgelist=G.edges, width=3)\n",
    "\n",
    "    # node labels\n",
    "    labels = {n: d[\"station_name\"] for n, d in G.nodes(data=True)}\n",
    "    nx.draw_networkx_labels(G, pos, font_size=10, font_family=\"sans-serif\", labels=labels)\n",
    "    # edge weight labels\n",
    "    edge_labels = nx.get_edge_attributes(G, \"travel_cost\")\n",
    "    nx.draw_networkx_edge_labels(G, pos, edge_labels)\n",
    "\n",
    "    ax = plt.gca()\n",
    "    ax.margins(0.08)\n",
    "    plt.axis(\"off\")\n",
    "    plt.tight_layout()\n",
    "    plt.show()\n"
   ]
  }
 ],
 "metadata": {
  "language_info": {
   "name": "python"
  }
 },
 "nbformat": 4,
 "nbformat_minor": 5
}
