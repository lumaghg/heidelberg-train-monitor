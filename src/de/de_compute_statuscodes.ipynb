{
 "cells": [
  {
   "cell_type": "markdown",
   "id": "99c91e9e",
   "metadata": {},
   "source": [
    "# Compute Statuscodes\n",
    "1. check where each train is at the moment\n",
    "2. collect trip ids of trains that are somewhere on the map right now\n",
    "3. check between which stations each trip is\n",
    "4. find the track each trip is on\n",
    "5. calculate the position of each train on their respective track\n",
    "6. lookup the track segment each track is on\n",
    "7. put the statuscode together and output"
   ]
  },
  {
   "cell_type": "code",
   "execution_count": 27,
   "id": "75b146c8",
   "metadata": {},
   "outputs": [
    {
     "name": "stdout",
     "output_type": "stream",
     "text": [
      "250810\n",
      "2508101222\n",
      "2025-08-10\n",
      "2025-08-10 12:22:00\n",
      "('250810', '12')\n"
     ]
    }
   ],
   "source": [
    "import datetime\n",
    "from dotenv import load_dotenv\n",
    "from os import getenv\n",
    "import pandas as pd\n",
    "\n",
    "load_dotenv()\n",
    "\n",
    "STOPTIMES_PATH = 'stoptimes.csv'\n",
    "\n",
    "# chatgpt generiert lol\n",
    "import datetime\n",
    "def dateToDBDate(date: datetime.date) -> str:\n",
    "    \"\"\"\n",
    "    Wandelt ein datetime.date Objekt in einen DB-Date-String \"YYMMDD\" um.\n",
    "    \"\"\"\n",
    "    return date.strftime(\"%y%m%d\")\n",
    "\n",
    "\n",
    "def datetimeToDBDatetime(dt: datetime.datetime) -> str:\n",
    "    \"\"\"\n",
    "    Wandelt ein datetime.datetime Objekt in einen DB-Datetime-String \"YYMMDDHHMM\" um.\n",
    "    \"\"\"\n",
    "    return dt.strftime(\"%y%m%d%H%M\")\n",
    "\n",
    "\n",
    "def DBDatetimeToDatetime(dbDate: str) -> datetime.datetime:\n",
    "    \"\"\"\n",
    "    Wandelt einen DB-Datetime-String \"YYMMDDHHMM\" in ein datetime.datetime Objekt um.\n",
    "    \"\"\"\n",
    "    return datetime.datetime.strptime(dbDate, \"%y%m%d%H%M\")\n",
    "\n",
    "\n",
    "def DBDateToDate(dbDate: str) -> datetime.date:\n",
    "    \"\"\"\n",
    "    Wandelt einen DB-Date-String \"YYMMDD\" in ein datetime.date Objekt um.\n",
    "    \"\"\"\n",
    "    return datetime.datetime.strptime(dbDate, \"%y%m%d\").date()\n",
    "\n",
    "def datetimeToDBDateAndHourTuple(dt: datetime.datetime):\n",
    "    date = dt.strftime(\"%y%m%d\")\n",
    "    hour = dt.strftime(\"%H\")\n",
    "    return (date, hour)\n",
    "    \n",
    "       \n",
    "print(dateToDBDate(datetime.date(2025, 8, 10)))\n",
    "print(datetimeToDBDatetime(datetime.datetime(2025, 8, 10, 12, 22)))\n",
    "print(DBDateToDate(\"250810\"))\n",
    "print(DBDatetimeToDatetime(\"2508101222\"))\n",
    "print(datetimeToDBDateAndHourTuple(datetime.datetime(2025, 8, 10, 12, 22)))"
   ]
  },
  {
   "cell_type": "code",
   "execution_count": 28,
   "id": "06a0a8f9",
   "metadata": {},
   "outputs": [
    {
     "name": "stdout",
     "output_type": "stream",
     "text": [
      "found 9 active trips\n"
     ]
    }
   ],
   "source": [
    "df_stoptimes = pd.read_csv(STOPTIMES_PATH, dtype=str)\n",
    "\n",
    "\n",
    "# find active trip ids\n",
    "\n",
    "current_dbdatetime = datetimeToDBDatetime(datetime.datetime.now())\n",
    "    \n",
    "# train is departed, when the departure time was before now\n",
    "df_stoptimes['has_departed_station'] = df_stoptimes['departure_dbdatetime'] < current_dbdatetime\n",
    "\n",
    "# find tripids with one stop time and remove them, as for identifying a position on a track at least two stops are needed.\n",
    "tripids_with_one_stoptime_mask = df_stoptimes.groupby(\"trip_id\")[\"trip_id\"].transform(\"count\") == 1\n",
    "df_stoptimes = df_stoptimes.drop(df_stoptimes[tripids_with_one_stoptime_mask].index)\n",
    "\n",
    "# find tripids where all stops have been departed and remove them, as that means the trip has ended\n",
    "tripids_ended_mask = df_stoptimes.groupby(\"trip_id\")[\"has_departed_station\"].transform(\"all\")\n",
    "df_stoptimes = df_stoptimes.drop(df_stoptimes[tripids_ended_mask].index)\n",
    "\n",
    "# find tripids where not any stops have been departed and remove them, as that means the trip has not started yet\n",
    "tripids_not_started_mask = ~df_stoptimes.groupby(\"trip_id\")[\"has_departed_station\"].transform(\"any\")\n",
    "df_stoptimes = df_stoptimes.drop(df_stoptimes[tripids_not_started_mask].index)\n",
    "\n",
    "# only the active trips remain\n",
    "\n",
    "no_active_trips = df_stoptimes['trip_id'].unique().shape[0]\n",
    "print(f\"found {no_active_trips} active trips\")\n",
    "\n",
    "df_stoptimes.to_csv('temp.csv', index=False)"
   ]
  },
  {
   "cell_type": "code",
   "execution_count": 29,
   "id": "455fb184",
   "metadata": {},
   "outputs": [],
   "source": [
    "# find out, between which two stations a train is traveling\n",
    "\n",
    "# a train traveling from A to B and a train coming from A and standing at B are treated the same. This is because the station and its 5 or 10km radius are displayed by the same LED so it makes no difference. A train enters a segment the moment it departs at the starting station and exits the moment it departs at the ending station.\n",
    "# therefore the train is between stations A and B, with station A being the last station it departed and station B being the first station it has not departed from a time perspective. "
   ]
  }
 ],
 "metadata": {
  "kernelspec": {
   "display_name": "venv",
   "language": "python",
   "name": "python3"
  },
  "language_info": {
   "codemirror_mode": {
    "name": "ipython",
    "version": 3
   },
   "file_extension": ".py",
   "mimetype": "text/x-python",
   "name": "python",
   "nbconvert_exporter": "python",
   "pygments_lexer": "ipython3",
   "version": "3.11.9"
  }
 },
 "nbformat": 4,
 "nbformat_minor": 5
}
