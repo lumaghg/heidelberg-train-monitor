{
 "cells": [
  {
   "cell_type": "markdown",
   "id": "99c91e9e",
   "metadata": {},
   "source": [
    "# Compute Statuscodes\n",
    "1. check where each train is at the moment\n",
    "2. collect trip ids of trains that are somewhere on the map right now\n",
    "3. check between which stations each trip is\n",
    "4. find the stretch each trip is on\n",
    "5. calculate the position of each train on their respective stretch\n",
    "6. lookup the stretch segment each stretch is on\n",
    "7. put the statuscode together and output"
   ]
  },
  {
   "cell_type": "code",
   "execution_count": 68,
   "id": "75b146c8",
   "metadata": {},
   "outputs": [
    {
     "name": "stdout",
     "output_type": "stream",
     "text": [
      "250810\n",
      "2508101222\n",
      "2025-08-10\n",
      "2025-08-10 12:22:00\n",
      "('250810', '12')\n"
     ]
    }
   ],
   "source": [
    "import datetime\n",
    "from dotenv import load_dotenv\n",
    "from os import getenv\n",
    "import pandas as pd\n",
    "\n",
    "load_dotenv()\n",
    "\n",
    "STOPTIMES_PATH = 'stoptimes.csv'\n",
    "\n",
    "# chatgpt generiert lol\n",
    "import datetime\n",
    "def dateToDBDate(date: datetime.date) -> str:\n",
    "    \"\"\"\n",
    "    Wandelt ein datetime.date Objekt in einen DB-Date-String \"YYMMDD\" um.\n",
    "    \"\"\"\n",
    "    return date.strftime(\"%y%m%d\")\n",
    "\n",
    "\n",
    "def datetimeToDBDatetime(dt: datetime.datetime) -> str:\n",
    "    \"\"\"\n",
    "    Wandelt ein datetime.datetime Objekt in einen DB-Datetime-String \"YYMMDDHHMM\" um.\n",
    "    \"\"\"\n",
    "    return dt.strftime(\"%y%m%d%H%M\")\n",
    "\n",
    "\n",
    "def DBDatetimeToDatetime(dbDate: str) -> datetime.datetime:\n",
    "    \"\"\"\n",
    "    Wandelt einen DB-Datetime-String \"YYMMDDHHMM\" in ein datetime.datetime Objekt um.\n",
    "    \"\"\"\n",
    "    return datetime.datetime.strptime(dbDate, \"%y%m%d%H%M\")\n",
    "\n",
    "\n",
    "def DBDateToDate(dbDate: str) -> datetime.date:\n",
    "    \"\"\"\n",
    "    Wandelt einen DB-Date-String \"YYMMDD\" in ein datetime.date Objekt um.\n",
    "    \"\"\"\n",
    "    return datetime.datetime.strptime(dbDate, \"%y%m%d\").date()\n",
    "\n",
    "def datetimeToDBDateAndHourTuple(dt: datetime.datetime):\n",
    "    date = dt.strftime(\"%y%m%d\")\n",
    "    hour = dt.strftime(\"%H\")\n",
    "    return (date, hour)\n",
    "    \n",
    "       \n",
    "print(dateToDBDate(datetime.date(2025, 8, 10)))\n",
    "print(datetimeToDBDatetime(datetime.datetime(2025, 8, 10, 12, 22)))\n",
    "print(DBDateToDate(\"250810\"))\n",
    "print(DBDatetimeToDatetime(\"2508101222\"))\n",
    "print(datetimeToDBDateAndHourTuple(datetime.datetime(2025, 8, 10, 12, 22)))"
   ]
  },
  {
   "cell_type": "code",
   "execution_count": 69,
   "id": "06a0a8f9",
   "metadata": {},
   "outputs": [],
   "source": [
    "df_stoptimes = pd.read_csv(STOPTIMES_PATH, dtype=str)\n",
    "\n",
    "\n",
    "# OPTIONALLY FETCH CHANGES HERE\n",
    "\n",
    "\n",
    "\n",
    "# remove request_timestamp and request_uic because they were only needed in the df_stoptimes.csv for the preprocessing\n",
    "# to identify outdated and cached data and during change application to match the changes to the stoptime entries.\n",
    "# But they are not needed anymore and as the stoptimes.csv is only read but not overwritten in this script, they can go\n",
    "df_stoptimes = df_stoptimes.drop(labels=[ 'request_timestamp'], axis=1)\n"
   ]
  },
  {
   "cell_type": "code",
   "execution_count": 70,
   "id": "d5697a11",
   "metadata": {},
   "outputs": [],
   "source": [
    "# convert arrival and departure to datetimes\n",
    "df_stoptimes['arrival'] = df_stoptimes['arrival_dbdatetime'].map(DBDatetimeToDatetime)\n",
    "df_stoptimes['departure'] = df_stoptimes['departure_dbdatetime'].map(DBDatetimeToDatetime)\n",
    "\n",
    "# remove old date columns\n",
    "df_stoptimes = df_stoptimes.drop(['arrival_dbdatetime', 'departure_dbdatetime'], axis=1)"
   ]
  },
  {
   "cell_type": "code",
   "execution_count": null,
   "id": "3afddccd",
   "metadata": {},
   "outputs": [
    {
     "name": "stdout",
     "output_type": "stream",
     "text": [
      "found 11 active trips\n"
     ]
    }
   ],
   "source": [
    "# find active trip ids\n",
    "\n",
    "current_datetime = datetime.datetime.now()\n",
    "    \n",
    "# train is departed, when the departure time was before now\n",
    "df_stoptimes['has_departed_station'] = df_stoptimes['departure'] < current_datetime\n",
    "\n",
    "# find tripids with one stop time and remove them, as for identifying a position on a stretch at least two stops are needed.\n",
    "tripids_with_one_stoptime_mask = df_stoptimes.groupby(\"trip_id\")[\"trip_id\"].transform(\"count\") == 1\n",
    "df_stoptimes = df_stoptimes.drop(df_stoptimes[tripids_with_one_stoptime_mask].index)\n",
    "\n",
    "# find tripids where all stops have been departed and remove them, as that means the trip has ended\n",
    "tripids_ended_mask = df_stoptimes.groupby(\"trip_id\")[\"has_departed_station\"].transform(\"all\")\n",
    "df_stoptimes = df_stoptimes.drop(df_stoptimes[tripids_ended_mask].index)\n",
    "\n",
    "# find tripids where not any stops have been departed and remove them, as that means the trip has not started yet\n",
    "tripids_not_started_mask = ~df_stoptimes.groupby(\"trip_id\")[\"has_departed_station\"].transform(\"any\")\n",
    "df_stoptimes = df_stoptimes.drop(df_stoptimes[tripids_not_started_mask].index)\n",
    "\n",
    "# only the active trips remain\n",
    "\n",
    "no_active_trips = df_stoptimes['trip_id'].unique().shape[0]\n",
    "print(f\"found {no_active_trips} active trips\")"
   ]
  },
  {
   "cell_type": "code",
   "execution_count": 72,
   "id": "455fb184",
   "metadata": {},
   "outputs": [],
   "source": [
    "# find the two stations, between which each train is traveling (standing at a station until departure counts to being between the two stations. \n",
    "# The stopping time animation is handled by calculating where the train is between the two stations and \n",
    "# standing at the second station simply gets mapped to having travelled 100% of the time)\n",
    "# therefore the previous station is the last of the departed stations and the next station is the first of the undeparted stations\n",
    "\n",
    "previous_stations = df_stoptimes[df_stoptimes['has_departed_station'] == True].groupby(by=['trip_id'], as_index=False).last()\n",
    "next_stations = df_stoptimes[df_stoptimes['has_departed_station'] == False].groupby(by=['trip_id'], as_index=False).first()\n",
    "\n",
    "# has_departed_station now not needed anymore\n",
    "previous_stations = previous_stations.drop(labels=['has_departed_station'], axis=1)\n",
    "next_stations = next_stations.drop(labels=['has_departed_station'], axis=1)\n",
    "\n",
    "df_trip_statuses = pd.merge(how='inner', left=previous_stations, right=next_stations, on=['trip_id', 'category', 'number'], suffixes=(\"_previous\", \"_next\"))\n",
    "\n",
    "df_trip_statuses.to_csv('temp.csv', index=False)"
   ]
  },
  {
   "cell_type": "code",
   "execution_count": null,
   "id": "a446db40",
   "metadata": {},
   "outputs": [],
   "source": [
    "# identify which stretch the trip is on\n",
    "\n",
    "# identify on how many timed % the trip is on"
   ]
  }
 ],
 "metadata": {
  "kernelspec": {
   "display_name": "venv",
   "language": "python",
   "name": "python3"
  },
  "language_info": {
   "codemirror_mode": {
    "name": "ipython",
    "version": 3
   },
   "file_extension": ".py",
   "mimetype": "text/x-python",
   "name": "python",
   "nbconvert_exporter": "python",
   "pygments_lexer": "ipython3",
   "version": "3.11.9"
  }
 },
 "nbformat": 4,
 "nbformat_minor": 5
}
