{
 "cells": [
  {
   "cell_type": "code",
   "execution_count": 6,
   "id": "83c9d30d",
   "metadata": {},
   "outputs": [],
   "source": [
    "# generate stretch ids out of station_name_from and station_name_to\n",
    "\n",
    "import pandas as pd\n",
    "\n",
    "STRETCHES_PATH = './stretches.csv'\n",
    "\n",
    "stretches = pd.read_csv(STRETCHES_PATH, dtype=str).dropna(how='all')\n",
    "\n",
    "stretches['stretch_id'] = stretches.apply(lambda row: f\"{row['station_name_from']}>{row['station_name_to']}\".replace(' ', '-').lower(), axis=1)\n",
    "\n",
    "stretches.to_csv(STRETCHES_PATH, index=False)\n"
   ]
  },
  {
   "cell_type": "code",
   "execution_count": null,
   "id": "018cdfcd",
   "metadata": {},
   "outputs": [],
   "source": []
  }
 ],
 "metadata": {
  "kernelspec": {
   "display_name": "venv",
   "language": "python",
   "name": "python3"
  },
  "language_info": {
   "codemirror_mode": {
    "name": "ipython",
    "version": 3
   },
   "file_extension": ".py",
   "mimetype": "text/x-python",
   "name": "python",
   "nbconvert_exporter": "python",
   "pygments_lexer": "ipython3",
   "version": "3.11.9"
  }
 },
 "nbformat": 4,
 "nbformat_minor": 5
}
